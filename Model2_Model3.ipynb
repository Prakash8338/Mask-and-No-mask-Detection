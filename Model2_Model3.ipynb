{
 "cells": [
  {
   "cell_type": "code",
   "execution_count": 39,
   "metadata": {
    "id": "UjQOMNfTsINi"
   },
   "outputs": [],
   "source": [
    "import pandas as pd\n",
    "import numpy as np\n",
    "import seaborn as sns\n",
    "from sklearn.preprocessing import StandardScaler\n",
    "from sklearn.model_selection import train_test_split\n",
    "from sklearn.neural_network import MLPClassifier\n",
    "from sklearn import metrics\n",
    "from sklearn import svm\n",
    "from sklearn.decomposition import PCA\n",
    "from sklearn.model_selection import cross_val_score\n",
    "from sklearn.metrics import confusion_matrix\n",
    "from matplotlib import pyplot as plt\n",
    "%matplotlib inline\n",
    "from sklearn.metrics import classification_report\n",
    "from sklearn.metrics import roc_curve\n",
    "from sklearn.metrics import log_loss"
   ]
  },
  {
   "cell_type": "markdown",
   "metadata": {
    "id": "y7eJA30k4uem"
   },
   "source": [
    "Loading the data set"
   ]
  },
  {
   "cell_type": "code",
   "execution_count": 4,
   "metadata": {
    "id": "m1s1Xej3tahj"
   },
   "outputs": [],
   "source": [
    "train = pd.read_csv('/content/newmini.csv')"
   ]
  },
  {
   "cell_type": "code",
   "execution_count": 5,
   "metadata": {
    "colab": {
     "base_uri": "https://localhost:8080/"
    },
    "id": "jMJvJUvutg4m",
    "outputId": "4ec406b7-2639-4124-e7f1-8281a570d311"
   },
   "outputs": [
    {
     "data": {
      "text/plain": [
       "(1499, 7501)"
      ]
     },
     "execution_count": 5,
     "metadata": {
      "tags": []
     },
     "output_type": "execute_result"
    }
   ],
   "source": [
    "train.shape"
   ]
  },
  {
   "cell_type": "code",
   "execution_count": 6,
   "metadata": {
    "colab": {
     "base_uri": "https://localhost:8080/",
     "height": 253
    },
    "id": "ZsswTr2Ytj6-",
    "outputId": "6b9b0549-e2d8-40bc-be70-8823d98a0bb7"
   },
   "outputs": [
    {
     "data": {
      "text/html": [
       "<div>\n",
       "<style scoped>\n",
       "    .dataframe tbody tr th:only-of-type {\n",
       "        vertical-align: middle;\n",
       "    }\n",
       "\n",
       "    .dataframe tbody tr th {\n",
       "        vertical-align: top;\n",
       "    }\n",
       "\n",
       "    .dataframe thead th {\n",
       "        text-align: right;\n",
       "    }\n",
       "</style>\n",
       "<table border=\"1\" class=\"dataframe\">\n",
       "  <thead>\n",
       "    <tr style=\"text-align: right;\">\n",
       "      <th></th>\n",
       "      <th>0</th>\n",
       "      <th>1</th>\n",
       "      <th>2</th>\n",
       "      <th>3</th>\n",
       "      <th>4</th>\n",
       "      <th>5</th>\n",
       "      <th>6</th>\n",
       "      <th>7</th>\n",
       "      <th>8</th>\n",
       "      <th>9</th>\n",
       "      <th>10</th>\n",
       "      <th>11</th>\n",
       "      <th>12</th>\n",
       "      <th>13</th>\n",
       "      <th>14</th>\n",
       "      <th>15</th>\n",
       "      <th>16</th>\n",
       "      <th>17</th>\n",
       "      <th>18</th>\n",
       "      <th>19</th>\n",
       "      <th>20</th>\n",
       "      <th>21</th>\n",
       "      <th>22</th>\n",
       "      <th>23</th>\n",
       "      <th>24</th>\n",
       "      <th>25</th>\n",
       "      <th>26</th>\n",
       "      <th>27</th>\n",
       "      <th>28</th>\n",
       "      <th>29</th>\n",
       "      <th>30</th>\n",
       "      <th>31</th>\n",
       "      <th>32</th>\n",
       "      <th>33</th>\n",
       "      <th>34</th>\n",
       "      <th>35</th>\n",
       "      <th>36</th>\n",
       "      <th>37</th>\n",
       "      <th>38</th>\n",
       "      <th>39</th>\n",
       "      <th>...</th>\n",
       "      <th>7461</th>\n",
       "      <th>7462</th>\n",
       "      <th>7463</th>\n",
       "      <th>7464</th>\n",
       "      <th>7465</th>\n",
       "      <th>7466</th>\n",
       "      <th>7467</th>\n",
       "      <th>7468</th>\n",
       "      <th>7469</th>\n",
       "      <th>7470</th>\n",
       "      <th>7471</th>\n",
       "      <th>7472</th>\n",
       "      <th>7473</th>\n",
       "      <th>7474</th>\n",
       "      <th>7475</th>\n",
       "      <th>7476</th>\n",
       "      <th>7477</th>\n",
       "      <th>7478</th>\n",
       "      <th>7479</th>\n",
       "      <th>7480</th>\n",
       "      <th>7481</th>\n",
       "      <th>7482</th>\n",
       "      <th>7483</th>\n",
       "      <th>7484</th>\n",
       "      <th>7485</th>\n",
       "      <th>7486</th>\n",
       "      <th>7487</th>\n",
       "      <th>7488</th>\n",
       "      <th>7489</th>\n",
       "      <th>7490</th>\n",
       "      <th>7491</th>\n",
       "      <th>7492</th>\n",
       "      <th>7493</th>\n",
       "      <th>7494</th>\n",
       "      <th>7495</th>\n",
       "      <th>7496</th>\n",
       "      <th>7497</th>\n",
       "      <th>7498</th>\n",
       "      <th>7499</th>\n",
       "      <th>7500</th>\n",
       "    </tr>\n",
       "  </thead>\n",
       "  <tbody>\n",
       "    <tr>\n",
       "      <th>0</th>\n",
       "      <td>165</td>\n",
       "      <td>179</td>\n",
       "      <td>185</td>\n",
       "      <td>165</td>\n",
       "      <td>179</td>\n",
       "      <td>185</td>\n",
       "      <td>163</td>\n",
       "      <td>178</td>\n",
       "      <td>183</td>\n",
       "      <td>162</td>\n",
       "      <td>176</td>\n",
       "      <td>182</td>\n",
       "      <td>161</td>\n",
       "      <td>175</td>\n",
       "      <td>178</td>\n",
       "      <td>161</td>\n",
       "      <td>174</td>\n",
       "      <td>177</td>\n",
       "      <td>161</td>\n",
       "      <td>173</td>\n",
       "      <td>177</td>\n",
       "      <td>159</td>\n",
       "      <td>172</td>\n",
       "      <td>175</td>\n",
       "      <td>160</td>\n",
       "      <td>170</td>\n",
       "      <td>174</td>\n",
       "      <td>161</td>\n",
       "      <td>168</td>\n",
       "      <td>171</td>\n",
       "      <td>160</td>\n",
       "      <td>168</td>\n",
       "      <td>171</td>\n",
       "      <td>158</td>\n",
       "      <td>166</td>\n",
       "      <td>169</td>\n",
       "      <td>153</td>\n",
       "      <td>160</td>\n",
       "      <td>163</td>\n",
       "      <td>154</td>\n",
       "      <td>...</td>\n",
       "      <td>41.0</td>\n",
       "      <td>44.0</td>\n",
       "      <td>51.0</td>\n",
       "      <td>40.0</td>\n",
       "      <td>43.0</td>\n",
       "      <td>50.0</td>\n",
       "      <td>40.0</td>\n",
       "      <td>43.0</td>\n",
       "      <td>50.0</td>\n",
       "      <td>40.0</td>\n",
       "      <td>43.0</td>\n",
       "      <td>50.0</td>\n",
       "      <td>40.0</td>\n",
       "      <td>43.0</td>\n",
       "      <td>50.0</td>\n",
       "      <td>40.0</td>\n",
       "      <td>43.0</td>\n",
       "      <td>50.0</td>\n",
       "      <td>42.0</td>\n",
       "      <td>45.0</td>\n",
       "      <td>52.0</td>\n",
       "      <td>41.0</td>\n",
       "      <td>44.0</td>\n",
       "      <td>51.0</td>\n",
       "      <td>40.0</td>\n",
       "      <td>43.0</td>\n",
       "      <td>50.0</td>\n",
       "      <td>40.0</td>\n",
       "      <td>43.0</td>\n",
       "      <td>50.0</td>\n",
       "      <td>40.0</td>\n",
       "      <td>43.0</td>\n",
       "      <td>50.0</td>\n",
       "      <td>40.0</td>\n",
       "      <td>43.0</td>\n",
       "      <td>50.0</td>\n",
       "      <td>41.0</td>\n",
       "      <td>44.0</td>\n",
       "      <td>51.0</td>\n",
       "      <td>1</td>\n",
       "    </tr>\n",
       "    <tr>\n",
       "      <th>1</th>\n",
       "      <td>246</td>\n",
       "      <td>246</td>\n",
       "      <td>246</td>\n",
       "      <td>241</td>\n",
       "      <td>242</td>\n",
       "      <td>241</td>\n",
       "      <td>210</td>\n",
       "      <td>212</td>\n",
       "      <td>211</td>\n",
       "      <td>250</td>\n",
       "      <td>249</td>\n",
       "      <td>249</td>\n",
       "      <td>254</td>\n",
       "      <td>254</td>\n",
       "      <td>254</td>\n",
       "      <td>249</td>\n",
       "      <td>249</td>\n",
       "      <td>249</td>\n",
       "      <td>242</td>\n",
       "      <td>239</td>\n",
       "      <td>238</td>\n",
       "      <td>200</td>\n",
       "      <td>196</td>\n",
       "      <td>199</td>\n",
       "      <td>115</td>\n",
       "      <td>110</td>\n",
       "      <td>113</td>\n",
       "      <td>126</td>\n",
       "      <td>121</td>\n",
       "      <td>121</td>\n",
       "      <td>131</td>\n",
       "      <td>127</td>\n",
       "      <td>125</td>\n",
       "      <td>129</td>\n",
       "      <td>125</td>\n",
       "      <td>123</td>\n",
       "      <td>187</td>\n",
       "      <td>184</td>\n",
       "      <td>185</td>\n",
       "      <td>255</td>\n",
       "      <td>...</td>\n",
       "      <td>73.0</td>\n",
       "      <td>89.0</td>\n",
       "      <td>97.0</td>\n",
       "      <td>86.0</td>\n",
       "      <td>95.0</td>\n",
       "      <td>102.0</td>\n",
       "      <td>78.0</td>\n",
       "      <td>83.0</td>\n",
       "      <td>86.0</td>\n",
       "      <td>79.0</td>\n",
       "      <td>84.0</td>\n",
       "      <td>94.0</td>\n",
       "      <td>93.0</td>\n",
       "      <td>99.0</td>\n",
       "      <td>111.0</td>\n",
       "      <td>107.0</td>\n",
       "      <td>121.0</td>\n",
       "      <td>133.0</td>\n",
       "      <td>100.0</td>\n",
       "      <td>109.0</td>\n",
       "      <td>118.0</td>\n",
       "      <td>111.0</td>\n",
       "      <td>119.0</td>\n",
       "      <td>126.0</td>\n",
       "      <td>115.0</td>\n",
       "      <td>121.0</td>\n",
       "      <td>133.0</td>\n",
       "      <td>117.0</td>\n",
       "      <td>125.0</td>\n",
       "      <td>137.0</td>\n",
       "      <td>117.0</td>\n",
       "      <td>123.0</td>\n",
       "      <td>135.0</td>\n",
       "      <td>105.0</td>\n",
       "      <td>109.0</td>\n",
       "      <td>120.0</td>\n",
       "      <td>109.0</td>\n",
       "      <td>114.0</td>\n",
       "      <td>124.0</td>\n",
       "      <td>1</td>\n",
       "    </tr>\n",
       "    <tr>\n",
       "      <th>2</th>\n",
       "      <td>255</td>\n",
       "      <td>255</td>\n",
       "      <td>255</td>\n",
       "      <td>238</td>\n",
       "      <td>239</td>\n",
       "      <td>237</td>\n",
       "      <td>215</td>\n",
       "      <td>220</td>\n",
       "      <td>219</td>\n",
       "      <td>214</td>\n",
       "      <td>220</td>\n",
       "      <td>218</td>\n",
       "      <td>244</td>\n",
       "      <td>247</td>\n",
       "      <td>246</td>\n",
       "      <td>255</td>\n",
       "      <td>255</td>\n",
       "      <td>255</td>\n",
       "      <td>254</td>\n",
       "      <td>254</td>\n",
       "      <td>254</td>\n",
       "      <td>254</td>\n",
       "      <td>255</td>\n",
       "      <td>253</td>\n",
       "      <td>248</td>\n",
       "      <td>255</td>\n",
       "      <td>252</td>\n",
       "      <td>252</td>\n",
       "      <td>253</td>\n",
       "      <td>254</td>\n",
       "      <td>255</td>\n",
       "      <td>253</td>\n",
       "      <td>248</td>\n",
       "      <td>252</td>\n",
       "      <td>249</td>\n",
       "      <td>244</td>\n",
       "      <td>252</td>\n",
       "      <td>239</td>\n",
       "      <td>234</td>\n",
       "      <td>253</td>\n",
       "      <td>...</td>\n",
       "      <td>255.0</td>\n",
       "      <td>255.0</td>\n",
       "      <td>255.0</td>\n",
       "      <td>255.0</td>\n",
       "      <td>255.0</td>\n",
       "      <td>255.0</td>\n",
       "      <td>255.0</td>\n",
       "      <td>255.0</td>\n",
       "      <td>255.0</td>\n",
       "      <td>255.0</td>\n",
       "      <td>255.0</td>\n",
       "      <td>255.0</td>\n",
       "      <td>255.0</td>\n",
       "      <td>255.0</td>\n",
       "      <td>255.0</td>\n",
       "      <td>255.0</td>\n",
       "      <td>255.0</td>\n",
       "      <td>255.0</td>\n",
       "      <td>255.0</td>\n",
       "      <td>255.0</td>\n",
       "      <td>255.0</td>\n",
       "      <td>255.0</td>\n",
       "      <td>255.0</td>\n",
       "      <td>255.0</td>\n",
       "      <td>255.0</td>\n",
       "      <td>255.0</td>\n",
       "      <td>255.0</td>\n",
       "      <td>255.0</td>\n",
       "      <td>255.0</td>\n",
       "      <td>255.0</td>\n",
       "      <td>255.0</td>\n",
       "      <td>255.0</td>\n",
       "      <td>255.0</td>\n",
       "      <td>255.0</td>\n",
       "      <td>255.0</td>\n",
       "      <td>255.0</td>\n",
       "      <td>255.0</td>\n",
       "      <td>255.0</td>\n",
       "      <td>255.0</td>\n",
       "      <td>1</td>\n",
       "    </tr>\n",
       "    <tr>\n",
       "      <th>3</th>\n",
       "      <td>87</td>\n",
       "      <td>86</td>\n",
       "      <td>92</td>\n",
       "      <td>89</td>\n",
       "      <td>89</td>\n",
       "      <td>95</td>\n",
       "      <td>94</td>\n",
       "      <td>91</td>\n",
       "      <td>97</td>\n",
       "      <td>99</td>\n",
       "      <td>92</td>\n",
       "      <td>100</td>\n",
       "      <td>100</td>\n",
       "      <td>93</td>\n",
       "      <td>101</td>\n",
       "      <td>102</td>\n",
       "      <td>95</td>\n",
       "      <td>103</td>\n",
       "      <td>104</td>\n",
       "      <td>97</td>\n",
       "      <td>105</td>\n",
       "      <td>106</td>\n",
       "      <td>99</td>\n",
       "      <td>107</td>\n",
       "      <td>107</td>\n",
       "      <td>100</td>\n",
       "      <td>108</td>\n",
       "      <td>108</td>\n",
       "      <td>101</td>\n",
       "      <td>109</td>\n",
       "      <td>109</td>\n",
       "      <td>102</td>\n",
       "      <td>110</td>\n",
       "      <td>110</td>\n",
       "      <td>103</td>\n",
       "      <td>111</td>\n",
       "      <td>112</td>\n",
       "      <td>105</td>\n",
       "      <td>113</td>\n",
       "      <td>113</td>\n",
       "      <td>...</td>\n",
       "      <td>196.0</td>\n",
       "      <td>218.0</td>\n",
       "      <td>226.0</td>\n",
       "      <td>201.0</td>\n",
       "      <td>219.0</td>\n",
       "      <td>226.0</td>\n",
       "      <td>136.0</td>\n",
       "      <td>142.0</td>\n",
       "      <td>146.0</td>\n",
       "      <td>98.0</td>\n",
       "      <td>97.0</td>\n",
       "      <td>103.0</td>\n",
       "      <td>101.0</td>\n",
       "      <td>100.0</td>\n",
       "      <td>106.0</td>\n",
       "      <td>96.0</td>\n",
       "      <td>95.0</td>\n",
       "      <td>101.0</td>\n",
       "      <td>93.0</td>\n",
       "      <td>92.0</td>\n",
       "      <td>98.0</td>\n",
       "      <td>89.0</td>\n",
       "      <td>88.0</td>\n",
       "      <td>94.0</td>\n",
       "      <td>86.0</td>\n",
       "      <td>85.0</td>\n",
       "      <td>91.0</td>\n",
       "      <td>83.0</td>\n",
       "      <td>82.0</td>\n",
       "      <td>88.0</td>\n",
       "      <td>80.0</td>\n",
       "      <td>79.0</td>\n",
       "      <td>85.0</td>\n",
       "      <td>76.0</td>\n",
       "      <td>76.0</td>\n",
       "      <td>84.0</td>\n",
       "      <td>71.0</td>\n",
       "      <td>71.0</td>\n",
       "      <td>79.0</td>\n",
       "      <td>1</td>\n",
       "    </tr>\n",
       "    <tr>\n",
       "      <th>4</th>\n",
       "      <td>50</td>\n",
       "      <td>37</td>\n",
       "      <td>29</td>\n",
       "      <td>48</td>\n",
       "      <td>37</td>\n",
       "      <td>30</td>\n",
       "      <td>47</td>\n",
       "      <td>36</td>\n",
       "      <td>33</td>\n",
       "      <td>46</td>\n",
       "      <td>34</td>\n",
       "      <td>34</td>\n",
       "      <td>46</td>\n",
       "      <td>33</td>\n",
       "      <td>36</td>\n",
       "      <td>39</td>\n",
       "      <td>30</td>\n",
       "      <td>33</td>\n",
       "      <td>34</td>\n",
       "      <td>30</td>\n",
       "      <td>33</td>\n",
       "      <td>29</td>\n",
       "      <td>34</td>\n",
       "      <td>34</td>\n",
       "      <td>24</td>\n",
       "      <td>31</td>\n",
       "      <td>28</td>\n",
       "      <td>24</td>\n",
       "      <td>26</td>\n",
       "      <td>24</td>\n",
       "      <td>21</td>\n",
       "      <td>22</td>\n",
       "      <td>21</td>\n",
       "      <td>18</td>\n",
       "      <td>18</td>\n",
       "      <td>16</td>\n",
       "      <td>17</td>\n",
       "      <td>16</td>\n",
       "      <td>13</td>\n",
       "      <td>19</td>\n",
       "      <td>...</td>\n",
       "      <td>26.0</td>\n",
       "      <td>14.0</td>\n",
       "      <td>21.0</td>\n",
       "      <td>21.0</td>\n",
       "      <td>10.0</td>\n",
       "      <td>15.0</td>\n",
       "      <td>17.0</td>\n",
       "      <td>9.0</td>\n",
       "      <td>12.0</td>\n",
       "      <td>11.0</td>\n",
       "      <td>8.0</td>\n",
       "      <td>9.0</td>\n",
       "      <td>6.0</td>\n",
       "      <td>6.0</td>\n",
       "      <td>5.0</td>\n",
       "      <td>8.0</td>\n",
       "      <td>10.0</td>\n",
       "      <td>9.0</td>\n",
       "      <td>5.0</td>\n",
       "      <td>10.0</td>\n",
       "      <td>8.0</td>\n",
       "      <td>5.0</td>\n",
       "      <td>8.0</td>\n",
       "      <td>7.0</td>\n",
       "      <td>9.0</td>\n",
       "      <td>9.0</td>\n",
       "      <td>10.0</td>\n",
       "      <td>11.0</td>\n",
       "      <td>7.0</td>\n",
       "      <td>9.0</td>\n",
       "      <td>13.0</td>\n",
       "      <td>4.0</td>\n",
       "      <td>5.0</td>\n",
       "      <td>17.0</td>\n",
       "      <td>2.0</td>\n",
       "      <td>3.0</td>\n",
       "      <td>22.0</td>\n",
       "      <td>3.0</td>\n",
       "      <td>4.0</td>\n",
       "      <td>1</td>\n",
       "    </tr>\n",
       "  </tbody>\n",
       "</table>\n",
       "<p>5 rows × 7501 columns</p>\n",
       "</div>"
      ],
      "text/plain": [
       "     0    1    2    3    4    5  ...   7495   7496   7497   7498   7499  7500\n",
       "0  165  179  185  165  179  185  ...   43.0   50.0   41.0   44.0   51.0     1\n",
       "1  246  246  246  241  242  241  ...  109.0  120.0  109.0  114.0  124.0     1\n",
       "2  255  255  255  238  239  237  ...  255.0  255.0  255.0  255.0  255.0     1\n",
       "3   87   86   92   89   89   95  ...   76.0   84.0   71.0   71.0   79.0     1\n",
       "4   50   37   29   48   37   30  ...    2.0    3.0   22.0    3.0    4.0     1\n",
       "\n",
       "[5 rows x 7501 columns]"
      ]
     },
     "execution_count": 6,
     "metadata": {
      "tags": []
     },
     "output_type": "execute_result"
    }
   ],
   "source": [
    "train.head()"
   ]
  },
  {
   "cell_type": "code",
   "execution_count": 7,
   "metadata": {
    "colab": {
     "base_uri": "https://localhost:8080/"
    },
    "id": "i-HslC4PtnGT",
    "outputId": "936959d9-f707-4569-d231-da17920aaca3"
   },
   "outputs": [
    {
     "data": {
      "text/plain": [
       "0       0\n",
       "1       0\n",
       "2       0\n",
       "3       0\n",
       "4       0\n",
       "       ..\n",
       "7496    0\n",
       "7497    0\n",
       "7498    0\n",
       "7499    0\n",
       "7500    0\n",
       "Length: 7501, dtype: int64"
      ]
     },
     "execution_count": 7,
     "metadata": {
      "tags": []
     },
     "output_type": "execute_result"
    }
   ],
   "source": [
    "train.isnull().sum()"
   ]
  },
  {
   "cell_type": "code",
   "execution_count": 8,
   "metadata": {
    "colab": {
     "base_uri": "https://localhost:8080/"
    },
    "id": "0ggfbwiKtrWl",
    "outputId": "dbf6fb7b-62d3-4840-d01c-f4e0c3e6bd58"
   },
   "outputs": [
    {
     "name": "stdout",
     "output_type": "stream",
     "text": [
      "<class 'pandas.core.frame.DataFrame'>\n",
      "RangeIndex: 1499 entries, 0 to 1498\n",
      "Columns: 7501 entries, 0 to 7500\n",
      "dtypes: float64(5000), int64(2501)\n",
      "memory usage: 85.8 MB\n"
     ]
    }
   ],
   "source": [
    "train.info()"
   ]
  },
  {
   "cell_type": "code",
   "execution_count": 9,
   "metadata": {
    "colab": {
     "base_uri": "https://localhost:8080/",
     "height": 346
    },
    "id": "ZWtXkV7XtuQj",
    "outputId": "c3b38991-af2c-4c55-fdf4-7eef781df767"
   },
   "outputs": [
    {
     "data": {
      "text/html": [
       "<div>\n",
       "<style scoped>\n",
       "    .dataframe tbody tr th:only-of-type {\n",
       "        vertical-align: middle;\n",
       "    }\n",
       "\n",
       "    .dataframe tbody tr th {\n",
       "        vertical-align: top;\n",
       "    }\n",
       "\n",
       "    .dataframe thead th {\n",
       "        text-align: right;\n",
       "    }\n",
       "</style>\n",
       "<table border=\"1\" class=\"dataframe\">\n",
       "  <thead>\n",
       "    <tr style=\"text-align: right;\">\n",
       "      <th></th>\n",
       "      <th>0</th>\n",
       "      <th>1</th>\n",
       "      <th>2</th>\n",
       "      <th>3</th>\n",
       "      <th>4</th>\n",
       "      <th>5</th>\n",
       "      <th>6</th>\n",
       "      <th>7</th>\n",
       "      <th>8</th>\n",
       "      <th>9</th>\n",
       "      <th>10</th>\n",
       "      <th>11</th>\n",
       "      <th>12</th>\n",
       "      <th>13</th>\n",
       "      <th>14</th>\n",
       "      <th>15</th>\n",
       "      <th>16</th>\n",
       "      <th>17</th>\n",
       "      <th>18</th>\n",
       "      <th>19</th>\n",
       "      <th>20</th>\n",
       "      <th>21</th>\n",
       "      <th>22</th>\n",
       "      <th>23</th>\n",
       "      <th>24</th>\n",
       "      <th>25</th>\n",
       "      <th>26</th>\n",
       "      <th>27</th>\n",
       "      <th>28</th>\n",
       "      <th>29</th>\n",
       "      <th>30</th>\n",
       "      <th>31</th>\n",
       "      <th>32</th>\n",
       "      <th>33</th>\n",
       "      <th>34</th>\n",
       "      <th>35</th>\n",
       "      <th>36</th>\n",
       "      <th>37</th>\n",
       "      <th>38</th>\n",
       "      <th>39</th>\n",
       "      <th>...</th>\n",
       "      <th>7461</th>\n",
       "      <th>7462</th>\n",
       "      <th>7463</th>\n",
       "      <th>7464</th>\n",
       "      <th>7465</th>\n",
       "      <th>7466</th>\n",
       "      <th>7467</th>\n",
       "      <th>7468</th>\n",
       "      <th>7469</th>\n",
       "      <th>7470</th>\n",
       "      <th>7471</th>\n",
       "      <th>7472</th>\n",
       "      <th>7473</th>\n",
       "      <th>7474</th>\n",
       "      <th>7475</th>\n",
       "      <th>7476</th>\n",
       "      <th>7477</th>\n",
       "      <th>7478</th>\n",
       "      <th>7479</th>\n",
       "      <th>7480</th>\n",
       "      <th>7481</th>\n",
       "      <th>7482</th>\n",
       "      <th>7483</th>\n",
       "      <th>7484</th>\n",
       "      <th>7485</th>\n",
       "      <th>7486</th>\n",
       "      <th>7487</th>\n",
       "      <th>7488</th>\n",
       "      <th>7489</th>\n",
       "      <th>7490</th>\n",
       "      <th>7491</th>\n",
       "      <th>7492</th>\n",
       "      <th>7493</th>\n",
       "      <th>7494</th>\n",
       "      <th>7495</th>\n",
       "      <th>7496</th>\n",
       "      <th>7497</th>\n",
       "      <th>7498</th>\n",
       "      <th>7499</th>\n",
       "      <th>7500</th>\n",
       "    </tr>\n",
       "  </thead>\n",
       "  <tbody>\n",
       "    <tr>\n",
       "      <th>count</th>\n",
       "      <td>1499.000000</td>\n",
       "      <td>1499.000000</td>\n",
       "      <td>1499.000000</td>\n",
       "      <td>1499.000000</td>\n",
       "      <td>1499.000000</td>\n",
       "      <td>1499.000000</td>\n",
       "      <td>1499.000000</td>\n",
       "      <td>1499.000000</td>\n",
       "      <td>1499.000000</td>\n",
       "      <td>1499.000000</td>\n",
       "      <td>1499.000000</td>\n",
       "      <td>1499.000000</td>\n",
       "      <td>1499.000000</td>\n",
       "      <td>1499.000000</td>\n",
       "      <td>1499.000000</td>\n",
       "      <td>1499.000000</td>\n",
       "      <td>1499.000000</td>\n",
       "      <td>1499.000000</td>\n",
       "      <td>1499.000000</td>\n",
       "      <td>1499.000000</td>\n",
       "      <td>1499.000000</td>\n",
       "      <td>1499.000000</td>\n",
       "      <td>1499.000000</td>\n",
       "      <td>1499.000000</td>\n",
       "      <td>1499.000000</td>\n",
       "      <td>1499.000000</td>\n",
       "      <td>1499.000000</td>\n",
       "      <td>1499.000000</td>\n",
       "      <td>1499.000000</td>\n",
       "      <td>1499.000000</td>\n",
       "      <td>1499.000000</td>\n",
       "      <td>1499.000000</td>\n",
       "      <td>1499.000000</td>\n",
       "      <td>1499.000000</td>\n",
       "      <td>1499.000000</td>\n",
       "      <td>1499.000000</td>\n",
       "      <td>1499.000000</td>\n",
       "      <td>1499.000000</td>\n",
       "      <td>1499.000000</td>\n",
       "      <td>1499.000000</td>\n",
       "      <td>...</td>\n",
       "      <td>1499.000000</td>\n",
       "      <td>1499.000000</td>\n",
       "      <td>1499.000000</td>\n",
       "      <td>1499.000000</td>\n",
       "      <td>1499.000000</td>\n",
       "      <td>1499.000000</td>\n",
       "      <td>1499.000000</td>\n",
       "      <td>1499.000000</td>\n",
       "      <td>1499.000000</td>\n",
       "      <td>1499.000000</td>\n",
       "      <td>1499.000000</td>\n",
       "      <td>1499.000000</td>\n",
       "      <td>1499.000000</td>\n",
       "      <td>1499.000000</td>\n",
       "      <td>1499.000000</td>\n",
       "      <td>1499.000000</td>\n",
       "      <td>1499.000000</td>\n",
       "      <td>1499.000000</td>\n",
       "      <td>1499.000000</td>\n",
       "      <td>1499.000000</td>\n",
       "      <td>1499.000000</td>\n",
       "      <td>1499.000000</td>\n",
       "      <td>1499.000000</td>\n",
       "      <td>1499.000000</td>\n",
       "      <td>1499.000000</td>\n",
       "      <td>1499.000000</td>\n",
       "      <td>1499.000000</td>\n",
       "      <td>1499.000000</td>\n",
       "      <td>1499.000000</td>\n",
       "      <td>1499.000000</td>\n",
       "      <td>1499.000000</td>\n",
       "      <td>1499.000000</td>\n",
       "      <td>1499.000000</td>\n",
       "      <td>1499.000000</td>\n",
       "      <td>1499.000000</td>\n",
       "      <td>1499.000000</td>\n",
       "      <td>1499.000000</td>\n",
       "      <td>1499.000000</td>\n",
       "      <td>1499.000000</td>\n",
       "      <td>1499.000000</td>\n",
       "    </tr>\n",
       "    <tr>\n",
       "      <th>mean</th>\n",
       "      <td>146.086724</td>\n",
       "      <td>141.448966</td>\n",
       "      <td>138.305537</td>\n",
       "      <td>144.162108</td>\n",
       "      <td>139.322882</td>\n",
       "      <td>135.985991</td>\n",
       "      <td>142.915277</td>\n",
       "      <td>138.033356</td>\n",
       "      <td>134.627085</td>\n",
       "      <td>141.551034</td>\n",
       "      <td>136.430287</td>\n",
       "      <td>132.781855</td>\n",
       "      <td>140.698466</td>\n",
       "      <td>135.296197</td>\n",
       "      <td>131.601067</td>\n",
       "      <td>140.421614</td>\n",
       "      <td>134.791861</td>\n",
       "      <td>131.222148</td>\n",
       "      <td>140.974650</td>\n",
       "      <td>135.004670</td>\n",
       "      <td>131.390260</td>\n",
       "      <td>141.496998</td>\n",
       "      <td>135.235490</td>\n",
       "      <td>131.574383</td>\n",
       "      <td>141.082722</td>\n",
       "      <td>134.620414</td>\n",
       "      <td>130.820547</td>\n",
       "      <td>140.860574</td>\n",
       "      <td>134.250167</td>\n",
       "      <td>130.539693</td>\n",
       "      <td>140.536358</td>\n",
       "      <td>133.599066</td>\n",
       "      <td>129.778519</td>\n",
       "      <td>140.036691</td>\n",
       "      <td>132.835223</td>\n",
       "      <td>129.039360</td>\n",
       "      <td>140.103402</td>\n",
       "      <td>132.627085</td>\n",
       "      <td>128.711141</td>\n",
       "      <td>140.432288</td>\n",
       "      <td>...</td>\n",
       "      <td>129.775851</td>\n",
       "      <td>116.585057</td>\n",
       "      <td>114.000000</td>\n",
       "      <td>129.246164</td>\n",
       "      <td>116.056037</td>\n",
       "      <td>113.641761</td>\n",
       "      <td>128.378252</td>\n",
       "      <td>115.077385</td>\n",
       "      <td>112.571047</td>\n",
       "      <td>128.085390</td>\n",
       "      <td>115.114743</td>\n",
       "      <td>112.480987</td>\n",
       "      <td>127.852568</td>\n",
       "      <td>115.519680</td>\n",
       "      <td>112.999333</td>\n",
       "      <td>127.773182</td>\n",
       "      <td>115.855904</td>\n",
       "      <td>113.603069</td>\n",
       "      <td>127.448966</td>\n",
       "      <td>115.814543</td>\n",
       "      <td>113.661107</td>\n",
       "      <td>128.173449</td>\n",
       "      <td>116.901935</td>\n",
       "      <td>114.787859</td>\n",
       "      <td>129.611074</td>\n",
       "      <td>118.649099</td>\n",
       "      <td>116.501001</td>\n",
       "      <td>131.140761</td>\n",
       "      <td>120.331554</td>\n",
       "      <td>117.797865</td>\n",
       "      <td>131.388259</td>\n",
       "      <td>121.226818</td>\n",
       "      <td>118.991328</td>\n",
       "      <td>132.201468</td>\n",
       "      <td>122.931288</td>\n",
       "      <td>121.008005</td>\n",
       "      <td>134.703135</td>\n",
       "      <td>125.998666</td>\n",
       "      <td>124.320881</td>\n",
       "      <td>0.488993</td>\n",
       "    </tr>\n",
       "    <tr>\n",
       "      <th>std</th>\n",
       "      <td>88.063072</td>\n",
       "      <td>89.294015</td>\n",
       "      <td>90.153822</td>\n",
       "      <td>88.080887</td>\n",
       "      <td>89.290759</td>\n",
       "      <td>89.948920</td>\n",
       "      <td>88.389432</td>\n",
       "      <td>89.459153</td>\n",
       "      <td>90.018024</td>\n",
       "      <td>88.327626</td>\n",
       "      <td>89.428438</td>\n",
       "      <td>89.909410</td>\n",
       "      <td>88.419265</td>\n",
       "      <td>89.606194</td>\n",
       "      <td>90.104958</td>\n",
       "      <td>88.001007</td>\n",
       "      <td>89.311732</td>\n",
       "      <td>89.790117</td>\n",
       "      <td>87.761682</td>\n",
       "      <td>89.057762</td>\n",
       "      <td>89.380103</td>\n",
       "      <td>88.063140</td>\n",
       "      <td>89.177595</td>\n",
       "      <td>89.333710</td>\n",
       "      <td>87.593870</td>\n",
       "      <td>88.873130</td>\n",
       "      <td>89.074123</td>\n",
       "      <td>87.228855</td>\n",
       "      <td>88.744060</td>\n",
       "      <td>89.089469</td>\n",
       "      <td>87.335460</td>\n",
       "      <td>88.976843</td>\n",
       "      <td>89.395322</td>\n",
       "      <td>87.578883</td>\n",
       "      <td>89.233333</td>\n",
       "      <td>89.628862</td>\n",
       "      <td>87.281618</td>\n",
       "      <td>88.964967</td>\n",
       "      <td>89.540288</td>\n",
       "      <td>87.093177</td>\n",
       "      <td>...</td>\n",
       "      <td>84.191762</td>\n",
       "      <td>80.749559</td>\n",
       "      <td>80.181395</td>\n",
       "      <td>85.068119</td>\n",
       "      <td>81.609033</td>\n",
       "      <td>80.817075</td>\n",
       "      <td>85.056678</td>\n",
       "      <td>81.486847</td>\n",
       "      <td>80.655845</td>\n",
       "      <td>85.464501</td>\n",
       "      <td>82.084599</td>\n",
       "      <td>81.176793</td>\n",
       "      <td>86.054926</td>\n",
       "      <td>83.237247</td>\n",
       "      <td>82.324470</td>\n",
       "      <td>86.747654</td>\n",
       "      <td>84.099212</td>\n",
       "      <td>83.270478</td>\n",
       "      <td>87.219185</td>\n",
       "      <td>84.717068</td>\n",
       "      <td>83.917349</td>\n",
       "      <td>87.644365</td>\n",
       "      <td>85.173523</td>\n",
       "      <td>84.216916</td>\n",
       "      <td>87.529237</td>\n",
       "      <td>85.483473</td>\n",
       "      <td>84.355211</td>\n",
       "      <td>87.611189</td>\n",
       "      <td>85.817642</td>\n",
       "      <td>84.813389</td>\n",
       "      <td>87.450417</td>\n",
       "      <td>85.818461</td>\n",
       "      <td>84.993061</td>\n",
       "      <td>87.970043</td>\n",
       "      <td>86.440615</td>\n",
       "      <td>85.968417</td>\n",
       "      <td>88.774316</td>\n",
       "      <td>87.541011</td>\n",
       "      <td>87.091065</td>\n",
       "      <td>0.500046</td>\n",
       "    </tr>\n",
       "    <tr>\n",
       "      <th>min</th>\n",
       "      <td>0.000000</td>\n",
       "      <td>0.000000</td>\n",
       "      <td>0.000000</td>\n",
       "      <td>0.000000</td>\n",
       "      <td>0.000000</td>\n",
       "      <td>0.000000</td>\n",
       "      <td>0.000000</td>\n",
       "      <td>0.000000</td>\n",
       "      <td>0.000000</td>\n",
       "      <td>0.000000</td>\n",
       "      <td>0.000000</td>\n",
       "      <td>0.000000</td>\n",
       "      <td>0.000000</td>\n",
       "      <td>0.000000</td>\n",
       "      <td>0.000000</td>\n",
       "      <td>0.000000</td>\n",
       "      <td>0.000000</td>\n",
       "      <td>0.000000</td>\n",
       "      <td>0.000000</td>\n",
       "      <td>0.000000</td>\n",
       "      <td>0.000000</td>\n",
       "      <td>0.000000</td>\n",
       "      <td>0.000000</td>\n",
       "      <td>0.000000</td>\n",
       "      <td>0.000000</td>\n",
       "      <td>0.000000</td>\n",
       "      <td>0.000000</td>\n",
       "      <td>0.000000</td>\n",
       "      <td>0.000000</td>\n",
       "      <td>0.000000</td>\n",
       "      <td>0.000000</td>\n",
       "      <td>0.000000</td>\n",
       "      <td>0.000000</td>\n",
       "      <td>0.000000</td>\n",
       "      <td>0.000000</td>\n",
       "      <td>0.000000</td>\n",
       "      <td>0.000000</td>\n",
       "      <td>0.000000</td>\n",
       "      <td>0.000000</td>\n",
       "      <td>0.000000</td>\n",
       "      <td>...</td>\n",
       "      <td>0.000000</td>\n",
       "      <td>0.000000</td>\n",
       "      <td>0.000000</td>\n",
       "      <td>0.000000</td>\n",
       "      <td>0.000000</td>\n",
       "      <td>0.000000</td>\n",
       "      <td>0.000000</td>\n",
       "      <td>0.000000</td>\n",
       "      <td>0.000000</td>\n",
       "      <td>0.000000</td>\n",
       "      <td>0.000000</td>\n",
       "      <td>0.000000</td>\n",
       "      <td>0.000000</td>\n",
       "      <td>0.000000</td>\n",
       "      <td>0.000000</td>\n",
       "      <td>0.000000</td>\n",
       "      <td>0.000000</td>\n",
       "      <td>0.000000</td>\n",
       "      <td>0.000000</td>\n",
       "      <td>0.000000</td>\n",
       "      <td>0.000000</td>\n",
       "      <td>0.000000</td>\n",
       "      <td>0.000000</td>\n",
       "      <td>0.000000</td>\n",
       "      <td>0.000000</td>\n",
       "      <td>0.000000</td>\n",
       "      <td>0.000000</td>\n",
       "      <td>0.000000</td>\n",
       "      <td>0.000000</td>\n",
       "      <td>0.000000</td>\n",
       "      <td>0.000000</td>\n",
       "      <td>0.000000</td>\n",
       "      <td>0.000000</td>\n",
       "      <td>0.000000</td>\n",
       "      <td>0.000000</td>\n",
       "      <td>0.000000</td>\n",
       "      <td>0.000000</td>\n",
       "      <td>0.000000</td>\n",
       "      <td>0.000000</td>\n",
       "      <td>0.000000</td>\n",
       "    </tr>\n",
       "    <tr>\n",
       "      <th>25%</th>\n",
       "      <td>62.000000</td>\n",
       "      <td>55.000000</td>\n",
       "      <td>50.000000</td>\n",
       "      <td>59.500000</td>\n",
       "      <td>52.000000</td>\n",
       "      <td>48.000000</td>\n",
       "      <td>57.000000</td>\n",
       "      <td>48.000000</td>\n",
       "      <td>47.000000</td>\n",
       "      <td>57.000000</td>\n",
       "      <td>49.000000</td>\n",
       "      <td>47.000000</td>\n",
       "      <td>55.000000</td>\n",
       "      <td>48.000000</td>\n",
       "      <td>46.500000</td>\n",
       "      <td>54.500000</td>\n",
       "      <td>49.000000</td>\n",
       "      <td>46.500000</td>\n",
       "      <td>57.000000</td>\n",
       "      <td>48.000000</td>\n",
       "      <td>46.500000</td>\n",
       "      <td>58.000000</td>\n",
       "      <td>49.500000</td>\n",
       "      <td>48.000000</td>\n",
       "      <td>57.000000</td>\n",
       "      <td>49.000000</td>\n",
       "      <td>47.000000</td>\n",
       "      <td>57.000000</td>\n",
       "      <td>49.000000</td>\n",
       "      <td>47.000000</td>\n",
       "      <td>54.500000</td>\n",
       "      <td>46.000000</td>\n",
       "      <td>44.000000</td>\n",
       "      <td>54.000000</td>\n",
       "      <td>45.000000</td>\n",
       "      <td>42.000000</td>\n",
       "      <td>56.000000</td>\n",
       "      <td>46.000000</td>\n",
       "      <td>44.000000</td>\n",
       "      <td>54.500000</td>\n",
       "      <td>...</td>\n",
       "      <td>48.000000</td>\n",
       "      <td>41.000000</td>\n",
       "      <td>43.000000</td>\n",
       "      <td>44.000000</td>\n",
       "      <td>39.500000</td>\n",
       "      <td>41.000000</td>\n",
       "      <td>43.000000</td>\n",
       "      <td>38.000000</td>\n",
       "      <td>40.000000</td>\n",
       "      <td>42.000000</td>\n",
       "      <td>37.000000</td>\n",
       "      <td>39.000000</td>\n",
       "      <td>41.000000</td>\n",
       "      <td>37.000000</td>\n",
       "      <td>38.000000</td>\n",
       "      <td>41.000000</td>\n",
       "      <td>36.000000</td>\n",
       "      <td>38.000000</td>\n",
       "      <td>41.000000</td>\n",
       "      <td>35.000000</td>\n",
       "      <td>37.500000</td>\n",
       "      <td>38.000000</td>\n",
       "      <td>34.000000</td>\n",
       "      <td>37.500000</td>\n",
       "      <td>40.000000</td>\n",
       "      <td>36.500000</td>\n",
       "      <td>39.000000</td>\n",
       "      <td>41.000000</td>\n",
       "      <td>38.000000</td>\n",
       "      <td>40.000000</td>\n",
       "      <td>45.000000</td>\n",
       "      <td>40.500000</td>\n",
       "      <td>40.000000</td>\n",
       "      <td>44.000000</td>\n",
       "      <td>40.000000</td>\n",
       "      <td>41.000000</td>\n",
       "      <td>45.000000</td>\n",
       "      <td>40.000000</td>\n",
       "      <td>43.000000</td>\n",
       "      <td>0.000000</td>\n",
       "    </tr>\n",
       "    <tr>\n",
       "      <th>50%</th>\n",
       "      <td>156.000000</td>\n",
       "      <td>147.000000</td>\n",
       "      <td>142.000000</td>\n",
       "      <td>151.000000</td>\n",
       "      <td>143.000000</td>\n",
       "      <td>133.000000</td>\n",
       "      <td>150.000000</td>\n",
       "      <td>140.000000</td>\n",
       "      <td>132.000000</td>\n",
       "      <td>146.000000</td>\n",
       "      <td>136.000000</td>\n",
       "      <td>126.000000</td>\n",
       "      <td>145.000000</td>\n",
       "      <td>136.000000</td>\n",
       "      <td>123.000000</td>\n",
       "      <td>146.000000</td>\n",
       "      <td>138.000000</td>\n",
       "      <td>122.000000</td>\n",
       "      <td>147.000000</td>\n",
       "      <td>133.000000</td>\n",
       "      <td>123.000000</td>\n",
       "      <td>148.000000</td>\n",
       "      <td>135.000000</td>\n",
       "      <td>123.000000</td>\n",
       "      <td>149.000000</td>\n",
       "      <td>135.000000</td>\n",
       "      <td>121.000000</td>\n",
       "      <td>147.000000</td>\n",
       "      <td>130.000000</td>\n",
       "      <td>121.000000</td>\n",
       "      <td>146.000000</td>\n",
       "      <td>128.000000</td>\n",
       "      <td>121.000000</td>\n",
       "      <td>145.000000</td>\n",
       "      <td>129.000000</td>\n",
       "      <td>121.000000</td>\n",
       "      <td>146.000000</td>\n",
       "      <td>127.000000</td>\n",
       "      <td>117.000000</td>\n",
       "      <td>147.000000</td>\n",
       "      <td>...</td>\n",
       "      <td>137.000000</td>\n",
       "      <td>109.000000</td>\n",
       "      <td>100.000000</td>\n",
       "      <td>135.000000</td>\n",
       "      <td>108.000000</td>\n",
       "      <td>98.000000</td>\n",
       "      <td>134.000000</td>\n",
       "      <td>103.000000</td>\n",
       "      <td>97.000000</td>\n",
       "      <td>130.000000</td>\n",
       "      <td>106.000000</td>\n",
       "      <td>96.000000</td>\n",
       "      <td>130.000000</td>\n",
       "      <td>106.000000</td>\n",
       "      <td>95.000000</td>\n",
       "      <td>130.000000</td>\n",
       "      <td>107.000000</td>\n",
       "      <td>95.000000</td>\n",
       "      <td>129.000000</td>\n",
       "      <td>106.000000</td>\n",
       "      <td>95.000000</td>\n",
       "      <td>131.000000</td>\n",
       "      <td>107.000000</td>\n",
       "      <td>100.000000</td>\n",
       "      <td>135.000000</td>\n",
       "      <td>110.000000</td>\n",
       "      <td>105.000000</td>\n",
       "      <td>138.000000</td>\n",
       "      <td>115.000000</td>\n",
       "      <td>105.000000</td>\n",
       "      <td>135.000000</td>\n",
       "      <td>115.000000</td>\n",
       "      <td>107.000000</td>\n",
       "      <td>136.000000</td>\n",
       "      <td>117.000000</td>\n",
       "      <td>109.000000</td>\n",
       "      <td>145.000000</td>\n",
       "      <td>123.000000</td>\n",
       "      <td>116.000000</td>\n",
       "      <td>0.000000</td>\n",
       "    </tr>\n",
       "    <tr>\n",
       "      <th>75%</th>\n",
       "      <td>233.000000</td>\n",
       "      <td>231.000000</td>\n",
       "      <td>231.000000</td>\n",
       "      <td>232.000000</td>\n",
       "      <td>229.500000</td>\n",
       "      <td>230.000000</td>\n",
       "      <td>229.000000</td>\n",
       "      <td>226.500000</td>\n",
       "      <td>227.000000</td>\n",
       "      <td>229.000000</td>\n",
       "      <td>225.500000</td>\n",
       "      <td>226.000000</td>\n",
       "      <td>228.000000</td>\n",
       "      <td>225.000000</td>\n",
       "      <td>226.000000</td>\n",
       "      <td>227.000000</td>\n",
       "      <td>224.000000</td>\n",
       "      <td>225.500000</td>\n",
       "      <td>227.000000</td>\n",
       "      <td>223.500000</td>\n",
       "      <td>225.000000</td>\n",
       "      <td>229.000000</td>\n",
       "      <td>226.000000</td>\n",
       "      <td>225.000000</td>\n",
       "      <td>228.000000</td>\n",
       "      <td>224.000000</td>\n",
       "      <td>223.000000</td>\n",
       "      <td>227.500000</td>\n",
       "      <td>223.000000</td>\n",
       "      <td>222.000000</td>\n",
       "      <td>227.000000</td>\n",
       "      <td>223.000000</td>\n",
       "      <td>221.000000</td>\n",
       "      <td>225.000000</td>\n",
       "      <td>222.000000</td>\n",
       "      <td>221.000000</td>\n",
       "      <td>226.000000</td>\n",
       "      <td>220.500000</td>\n",
       "      <td>220.000000</td>\n",
       "      <td>226.000000</td>\n",
       "      <td>...</td>\n",
       "      <td>205.000000</td>\n",
       "      <td>184.000000</td>\n",
       "      <td>178.000000</td>\n",
       "      <td>208.000000</td>\n",
       "      <td>185.500000</td>\n",
       "      <td>180.000000</td>\n",
       "      <td>205.000000</td>\n",
       "      <td>183.500000</td>\n",
       "      <td>176.000000</td>\n",
       "      <td>207.000000</td>\n",
       "      <td>184.000000</td>\n",
       "      <td>177.000000</td>\n",
       "      <td>209.000000</td>\n",
       "      <td>188.500000</td>\n",
       "      <td>183.000000</td>\n",
       "      <td>210.000000</td>\n",
       "      <td>191.000000</td>\n",
       "      <td>188.000000</td>\n",
       "      <td>208.000000</td>\n",
       "      <td>190.000000</td>\n",
       "      <td>186.000000</td>\n",
       "      <td>209.000000</td>\n",
       "      <td>191.000000</td>\n",
       "      <td>189.000000</td>\n",
       "      <td>211.500000</td>\n",
       "      <td>194.500000</td>\n",
       "      <td>192.000000</td>\n",
       "      <td>214.000000</td>\n",
       "      <td>199.000000</td>\n",
       "      <td>198.000000</td>\n",
       "      <td>213.500000</td>\n",
       "      <td>198.500000</td>\n",
       "      <td>197.500000</td>\n",
       "      <td>215.000000</td>\n",
       "      <td>201.500000</td>\n",
       "      <td>201.000000</td>\n",
       "      <td>219.000000</td>\n",
       "      <td>208.000000</td>\n",
       "      <td>207.000000</td>\n",
       "      <td>1.000000</td>\n",
       "    </tr>\n",
       "    <tr>\n",
       "      <th>max</th>\n",
       "      <td>255.000000</td>\n",
       "      <td>255.000000</td>\n",
       "      <td>255.000000</td>\n",
       "      <td>255.000000</td>\n",
       "      <td>255.000000</td>\n",
       "      <td>255.000000</td>\n",
       "      <td>255.000000</td>\n",
       "      <td>255.000000</td>\n",
       "      <td>255.000000</td>\n",
       "      <td>255.000000</td>\n",
       "      <td>255.000000</td>\n",
       "      <td>255.000000</td>\n",
       "      <td>255.000000</td>\n",
       "      <td>255.000000</td>\n",
       "      <td>255.000000</td>\n",
       "      <td>255.000000</td>\n",
       "      <td>255.000000</td>\n",
       "      <td>255.000000</td>\n",
       "      <td>255.000000</td>\n",
       "      <td>255.000000</td>\n",
       "      <td>255.000000</td>\n",
       "      <td>255.000000</td>\n",
       "      <td>255.000000</td>\n",
       "      <td>255.000000</td>\n",
       "      <td>255.000000</td>\n",
       "      <td>255.000000</td>\n",
       "      <td>255.000000</td>\n",
       "      <td>255.000000</td>\n",
       "      <td>255.000000</td>\n",
       "      <td>255.000000</td>\n",
       "      <td>255.000000</td>\n",
       "      <td>255.000000</td>\n",
       "      <td>255.000000</td>\n",
       "      <td>255.000000</td>\n",
       "      <td>255.000000</td>\n",
       "      <td>255.000000</td>\n",
       "      <td>255.000000</td>\n",
       "      <td>255.000000</td>\n",
       "      <td>255.000000</td>\n",
       "      <td>255.000000</td>\n",
       "      <td>...</td>\n",
       "      <td>255.000000</td>\n",
       "      <td>255.000000</td>\n",
       "      <td>255.000000</td>\n",
       "      <td>255.000000</td>\n",
       "      <td>255.000000</td>\n",
       "      <td>255.000000</td>\n",
       "      <td>255.000000</td>\n",
       "      <td>255.000000</td>\n",
       "      <td>255.000000</td>\n",
       "      <td>255.000000</td>\n",
       "      <td>255.000000</td>\n",
       "      <td>255.000000</td>\n",
       "      <td>255.000000</td>\n",
       "      <td>255.000000</td>\n",
       "      <td>255.000000</td>\n",
       "      <td>255.000000</td>\n",
       "      <td>255.000000</td>\n",
       "      <td>255.000000</td>\n",
       "      <td>255.000000</td>\n",
       "      <td>255.000000</td>\n",
       "      <td>255.000000</td>\n",
       "      <td>255.000000</td>\n",
       "      <td>255.000000</td>\n",
       "      <td>255.000000</td>\n",
       "      <td>255.000000</td>\n",
       "      <td>255.000000</td>\n",
       "      <td>255.000000</td>\n",
       "      <td>255.000000</td>\n",
       "      <td>255.000000</td>\n",
       "      <td>255.000000</td>\n",
       "      <td>255.000000</td>\n",
       "      <td>255.000000</td>\n",
       "      <td>255.000000</td>\n",
       "      <td>255.000000</td>\n",
       "      <td>255.000000</td>\n",
       "      <td>255.000000</td>\n",
       "      <td>255.000000</td>\n",
       "      <td>255.000000</td>\n",
       "      <td>255.000000</td>\n",
       "      <td>1.000000</td>\n",
       "    </tr>\n",
       "  </tbody>\n",
       "</table>\n",
       "<p>8 rows × 7501 columns</p>\n",
       "</div>"
      ],
      "text/plain": [
       "                 0            1  ...         7499         7500\n",
       "count  1499.000000  1499.000000  ...  1499.000000  1499.000000\n",
       "mean    146.086724   141.448966  ...   124.320881     0.488993\n",
       "std      88.063072    89.294015  ...    87.091065     0.500046\n",
       "min       0.000000     0.000000  ...     0.000000     0.000000\n",
       "25%      62.000000    55.000000  ...    43.000000     0.000000\n",
       "50%     156.000000   147.000000  ...   116.000000     0.000000\n",
       "75%     233.000000   231.000000  ...   207.000000     1.000000\n",
       "max     255.000000   255.000000  ...   255.000000     1.000000\n",
       "\n",
       "[8 rows x 7501 columns]"
      ]
     },
     "execution_count": 9,
     "metadata": {
      "tags": []
     },
     "output_type": "execute_result"
    }
   ],
   "source": [
    "train.describe()"
   ]
  },
  {
   "cell_type": "markdown",
   "metadata": {
    "id": "oL1Gqq8I41oe"
   },
   "source": [
    "Plotting the count of target variable"
   ]
  },
  {
   "cell_type": "code",
   "execution_count": 10,
   "metadata": {
    "colab": {
     "base_uri": "https://localhost:8080/"
    },
    "id": "OBIU1efc_ZZD",
    "outputId": "7a55e07b-36b6-495a-c801-2c1f33d58cff"
   },
   "outputs": [
    {
     "data": {
      "text/plain": [
       "array([1, 0])"
      ]
     },
     "execution_count": 10,
     "metadata": {
      "tags": []
     },
     "output_type": "execute_result"
    }
   ],
   "source": [
    "train['7500'].unique()"
   ]
  },
  {
   "cell_type": "code",
   "execution_count": 11,
   "metadata": {
    "colab": {
     "base_uri": "https://localhost:8080/",
     "height": 336
    },
    "id": "XoSCj5-7xJcx",
    "outputId": "75465505-d059-4a85-a825-f8b9228e41b0"
   },
   "outputs": [
    {
     "name": "stderr",
     "output_type": "stream",
     "text": [
      "/usr/local/lib/python3.7/dist-packages/seaborn/_decorators.py:43: FutureWarning: Pass the following variable as a keyword arg: x. From version 0.12, the only valid positional argument will be `data`, and passing other arguments without an explicit keyword will result in an error or misinterpretation.\n",
      "  FutureWarning\n"
     ]
    },
    {
     "data": {
      "image/png": "[encoded data removed]",
      "text/plain": [
       "<Figure size 432x288 with 1 Axes>"
      ]
     },
     "metadata": {
      "needs_background": "light",
      "tags": []
     },
     "output_type": "display_data"
    }
   ],
   "source": [
    "train['7500'].value_counts()\n",
    "sns.countplot(train['7500'])\n",
    "plt.show()"
   ]
  },
  {
   "cell_type": "markdown",
   "metadata": {
    "id": "EsCnD-1C49CC"
   },
   "source": [
    "Finding correlation between features"
   ]
  },
  {
   "cell_type": "markdown",
   "metadata": {
    "id": "ygfVs4QXEI5n"
   },
   "source": [
    "Seperating the input and output dataset"
   ]
  },
  {
   "cell_type": "code",
   "execution_count": 12,
   "metadata": {
    "colab": {
     "base_uri": "https://localhost:8080/",
     "height": 253
    },
    "id": "PcclWcFit0wZ",
    "outputId": "07f1c021-2997-4c13-e7b4-10df251ef999"
   },
   "outputs": [
    {
     "data": {
      "text/html": [
       "<div>\n",
       "<style scoped>\n",
       "    .dataframe tbody tr th:only-of-type {\n",
       "        vertical-align: middle;\n",
       "    }\n",
       "\n",
       "    .dataframe tbody tr th {\n",
       "        vertical-align: top;\n",
       "    }\n",
       "\n",
       "    .dataframe thead th {\n",
       "        text-align: right;\n",
       "    }\n",
       "</style>\n",
       "<table border=\"1\" class=\"dataframe\">\n",
       "  <thead>\n",
       "    <tr style=\"text-align: right;\">\n",
       "      <th></th>\n",
       "      <th>0</th>\n",
       "      <th>1</th>\n",
       "      <th>2</th>\n",
       "      <th>3</th>\n",
       "      <th>4</th>\n",
       "      <th>5</th>\n",
       "      <th>6</th>\n",
       "      <th>7</th>\n",
       "      <th>8</th>\n",
       "      <th>9</th>\n",
       "      <th>10</th>\n",
       "      <th>11</th>\n",
       "      <th>12</th>\n",
       "      <th>13</th>\n",
       "      <th>14</th>\n",
       "      <th>15</th>\n",
       "      <th>16</th>\n",
       "      <th>17</th>\n",
       "      <th>18</th>\n",
       "      <th>19</th>\n",
       "      <th>20</th>\n",
       "      <th>21</th>\n",
       "      <th>22</th>\n",
       "      <th>23</th>\n",
       "      <th>24</th>\n",
       "      <th>25</th>\n",
       "      <th>26</th>\n",
       "      <th>27</th>\n",
       "      <th>28</th>\n",
       "      <th>29</th>\n",
       "      <th>30</th>\n",
       "      <th>31</th>\n",
       "      <th>32</th>\n",
       "      <th>33</th>\n",
       "      <th>34</th>\n",
       "      <th>35</th>\n",
       "      <th>36</th>\n",
       "      <th>37</th>\n",
       "      <th>38</th>\n",
       "      <th>39</th>\n",
       "      <th>...</th>\n",
       "      <th>7460</th>\n",
       "      <th>7461</th>\n",
       "      <th>7462</th>\n",
       "      <th>7463</th>\n",
       "      <th>7464</th>\n",
       "      <th>7465</th>\n",
       "      <th>7466</th>\n",
       "      <th>7467</th>\n",
       "      <th>7468</th>\n",
       "      <th>7469</th>\n",
       "      <th>7470</th>\n",
       "      <th>7471</th>\n",
       "      <th>7472</th>\n",
       "      <th>7473</th>\n",
       "      <th>7474</th>\n",
       "      <th>7475</th>\n",
       "      <th>7476</th>\n",
       "      <th>7477</th>\n",
       "      <th>7478</th>\n",
       "      <th>7479</th>\n",
       "      <th>7480</th>\n",
       "      <th>7481</th>\n",
       "      <th>7482</th>\n",
       "      <th>7483</th>\n",
       "      <th>7484</th>\n",
       "      <th>7485</th>\n",
       "      <th>7486</th>\n",
       "      <th>7487</th>\n",
       "      <th>7488</th>\n",
       "      <th>7489</th>\n",
       "      <th>7490</th>\n",
       "      <th>7491</th>\n",
       "      <th>7492</th>\n",
       "      <th>7493</th>\n",
       "      <th>7494</th>\n",
       "      <th>7495</th>\n",
       "      <th>7496</th>\n",
       "      <th>7497</th>\n",
       "      <th>7498</th>\n",
       "      <th>7499</th>\n",
       "    </tr>\n",
       "  </thead>\n",
       "  <tbody>\n",
       "    <tr>\n",
       "      <th>0</th>\n",
       "      <td>165</td>\n",
       "      <td>179</td>\n",
       "      <td>185</td>\n",
       "      <td>165</td>\n",
       "      <td>179</td>\n",
       "      <td>185</td>\n",
       "      <td>163</td>\n",
       "      <td>178</td>\n",
       "      <td>183</td>\n",
       "      <td>162</td>\n",
       "      <td>176</td>\n",
       "      <td>182</td>\n",
       "      <td>161</td>\n",
       "      <td>175</td>\n",
       "      <td>178</td>\n",
       "      <td>161</td>\n",
       "      <td>174</td>\n",
       "      <td>177</td>\n",
       "      <td>161</td>\n",
       "      <td>173</td>\n",
       "      <td>177</td>\n",
       "      <td>159</td>\n",
       "      <td>172</td>\n",
       "      <td>175</td>\n",
       "      <td>160</td>\n",
       "      <td>170</td>\n",
       "      <td>174</td>\n",
       "      <td>161</td>\n",
       "      <td>168</td>\n",
       "      <td>171</td>\n",
       "      <td>160</td>\n",
       "      <td>168</td>\n",
       "      <td>171</td>\n",
       "      <td>158</td>\n",
       "      <td>166</td>\n",
       "      <td>169</td>\n",
       "      <td>153</td>\n",
       "      <td>160</td>\n",
       "      <td>163</td>\n",
       "      <td>154</td>\n",
       "      <td>...</td>\n",
       "      <td>52.0</td>\n",
       "      <td>41.0</td>\n",
       "      <td>44.0</td>\n",
       "      <td>51.0</td>\n",
       "      <td>40.0</td>\n",
       "      <td>43.0</td>\n",
       "      <td>50.0</td>\n",
       "      <td>40.0</td>\n",
       "      <td>43.0</td>\n",
       "      <td>50.0</td>\n",
       "      <td>40.0</td>\n",
       "      <td>43.0</td>\n",
       "      <td>50.0</td>\n",
       "      <td>40.0</td>\n",
       "      <td>43.0</td>\n",
       "      <td>50.0</td>\n",
       "      <td>40.0</td>\n",
       "      <td>43.0</td>\n",
       "      <td>50.0</td>\n",
       "      <td>42.0</td>\n",
       "      <td>45.0</td>\n",
       "      <td>52.0</td>\n",
       "      <td>41.0</td>\n",
       "      <td>44.0</td>\n",
       "      <td>51.0</td>\n",
       "      <td>40.0</td>\n",
       "      <td>43.0</td>\n",
       "      <td>50.0</td>\n",
       "      <td>40.0</td>\n",
       "      <td>43.0</td>\n",
       "      <td>50.0</td>\n",
       "      <td>40.0</td>\n",
       "      <td>43.0</td>\n",
       "      <td>50.0</td>\n",
       "      <td>40.0</td>\n",
       "      <td>43.0</td>\n",
       "      <td>50.0</td>\n",
       "      <td>41.0</td>\n",
       "      <td>44.0</td>\n",
       "      <td>51.0</td>\n",
       "    </tr>\n",
       "    <tr>\n",
       "      <th>1</th>\n",
       "      <td>246</td>\n",
       "      <td>246</td>\n",
       "      <td>246</td>\n",
       "      <td>241</td>\n",
       "      <td>242</td>\n",
       "      <td>241</td>\n",
       "      <td>210</td>\n",
       "      <td>212</td>\n",
       "      <td>211</td>\n",
       "      <td>250</td>\n",
       "      <td>249</td>\n",
       "      <td>249</td>\n",
       "      <td>254</td>\n",
       "      <td>254</td>\n",
       "      <td>254</td>\n",
       "      <td>249</td>\n",
       "      <td>249</td>\n",
       "      <td>249</td>\n",
       "      <td>242</td>\n",
       "      <td>239</td>\n",
       "      <td>238</td>\n",
       "      <td>200</td>\n",
       "      <td>196</td>\n",
       "      <td>199</td>\n",
       "      <td>115</td>\n",
       "      <td>110</td>\n",
       "      <td>113</td>\n",
       "      <td>126</td>\n",
       "      <td>121</td>\n",
       "      <td>121</td>\n",
       "      <td>131</td>\n",
       "      <td>127</td>\n",
       "      <td>125</td>\n",
       "      <td>129</td>\n",
       "      <td>125</td>\n",
       "      <td>123</td>\n",
       "      <td>187</td>\n",
       "      <td>184</td>\n",
       "      <td>185</td>\n",
       "      <td>255</td>\n",
       "      <td>...</td>\n",
       "      <td>75.0</td>\n",
       "      <td>73.0</td>\n",
       "      <td>89.0</td>\n",
       "      <td>97.0</td>\n",
       "      <td>86.0</td>\n",
       "      <td>95.0</td>\n",
       "      <td>102.0</td>\n",
       "      <td>78.0</td>\n",
       "      <td>83.0</td>\n",
       "      <td>86.0</td>\n",
       "      <td>79.0</td>\n",
       "      <td>84.0</td>\n",
       "      <td>94.0</td>\n",
       "      <td>93.0</td>\n",
       "      <td>99.0</td>\n",
       "      <td>111.0</td>\n",
       "      <td>107.0</td>\n",
       "      <td>121.0</td>\n",
       "      <td>133.0</td>\n",
       "      <td>100.0</td>\n",
       "      <td>109.0</td>\n",
       "      <td>118.0</td>\n",
       "      <td>111.0</td>\n",
       "      <td>119.0</td>\n",
       "      <td>126.0</td>\n",
       "      <td>115.0</td>\n",
       "      <td>121.0</td>\n",
       "      <td>133.0</td>\n",
       "      <td>117.0</td>\n",
       "      <td>125.0</td>\n",
       "      <td>137.0</td>\n",
       "      <td>117.0</td>\n",
       "      <td>123.0</td>\n",
       "      <td>135.0</td>\n",
       "      <td>105.0</td>\n",
       "      <td>109.0</td>\n",
       "      <td>120.0</td>\n",
       "      <td>109.0</td>\n",
       "      <td>114.0</td>\n",
       "      <td>124.0</td>\n",
       "    </tr>\n",
       "    <tr>\n",
       "      <th>2</th>\n",
       "      <td>255</td>\n",
       "      <td>255</td>\n",
       "      <td>255</td>\n",
       "      <td>238</td>\n",
       "      <td>239</td>\n",
       "      <td>237</td>\n",
       "      <td>215</td>\n",
       "      <td>220</td>\n",
       "      <td>219</td>\n",
       "      <td>214</td>\n",
       "      <td>220</td>\n",
       "      <td>218</td>\n",
       "      <td>244</td>\n",
       "      <td>247</td>\n",
       "      <td>246</td>\n",
       "      <td>255</td>\n",
       "      <td>255</td>\n",
       "      <td>255</td>\n",
       "      <td>254</td>\n",
       "      <td>254</td>\n",
       "      <td>254</td>\n",
       "      <td>254</td>\n",
       "      <td>255</td>\n",
       "      <td>253</td>\n",
       "      <td>248</td>\n",
       "      <td>255</td>\n",
       "      <td>252</td>\n",
       "      <td>252</td>\n",
       "      <td>253</td>\n",
       "      <td>254</td>\n",
       "      <td>255</td>\n",
       "      <td>253</td>\n",
       "      <td>248</td>\n",
       "      <td>252</td>\n",
       "      <td>249</td>\n",
       "      <td>244</td>\n",
       "      <td>252</td>\n",
       "      <td>239</td>\n",
       "      <td>234</td>\n",
       "      <td>253</td>\n",
       "      <td>...</td>\n",
       "      <td>254.0</td>\n",
       "      <td>255.0</td>\n",
       "      <td>255.0</td>\n",
       "      <td>255.0</td>\n",
       "      <td>255.0</td>\n",
       "      <td>255.0</td>\n",
       "      <td>255.0</td>\n",
       "      <td>255.0</td>\n",
       "      <td>255.0</td>\n",
       "      <td>255.0</td>\n",
       "      <td>255.0</td>\n",
       "      <td>255.0</td>\n",
       "      <td>255.0</td>\n",
       "      <td>255.0</td>\n",
       "      <td>255.0</td>\n",
       "      <td>255.0</td>\n",
       "      <td>255.0</td>\n",
       "      <td>255.0</td>\n",
       "      <td>255.0</td>\n",
       "      <td>255.0</td>\n",
       "      <td>255.0</td>\n",
       "      <td>255.0</td>\n",
       "      <td>255.0</td>\n",
       "      <td>255.0</td>\n",
       "      <td>255.0</td>\n",
       "      <td>255.0</td>\n",
       "      <td>255.0</td>\n",
       "      <td>255.0</td>\n",
       "      <td>255.0</td>\n",
       "      <td>255.0</td>\n",
       "      <td>255.0</td>\n",
       "      <td>255.0</td>\n",
       "      <td>255.0</td>\n",
       "      <td>255.0</td>\n",
       "      <td>255.0</td>\n",
       "      <td>255.0</td>\n",
       "      <td>255.0</td>\n",
       "      <td>255.0</td>\n",
       "      <td>255.0</td>\n",
       "      <td>255.0</td>\n",
       "    </tr>\n",
       "    <tr>\n",
       "      <th>3</th>\n",
       "      <td>87</td>\n",
       "      <td>86</td>\n",
       "      <td>92</td>\n",
       "      <td>89</td>\n",
       "      <td>89</td>\n",
       "      <td>95</td>\n",
       "      <td>94</td>\n",
       "      <td>91</td>\n",
       "      <td>97</td>\n",
       "      <td>99</td>\n",
       "      <td>92</td>\n",
       "      <td>100</td>\n",
       "      <td>100</td>\n",
       "      <td>93</td>\n",
       "      <td>101</td>\n",
       "      <td>102</td>\n",
       "      <td>95</td>\n",
       "      <td>103</td>\n",
       "      <td>104</td>\n",
       "      <td>97</td>\n",
       "      <td>105</td>\n",
       "      <td>106</td>\n",
       "      <td>99</td>\n",
       "      <td>107</td>\n",
       "      <td>107</td>\n",
       "      <td>100</td>\n",
       "      <td>108</td>\n",
       "      <td>108</td>\n",
       "      <td>101</td>\n",
       "      <td>109</td>\n",
       "      <td>109</td>\n",
       "      <td>102</td>\n",
       "      <td>110</td>\n",
       "      <td>110</td>\n",
       "      <td>103</td>\n",
       "      <td>111</td>\n",
       "      <td>112</td>\n",
       "      <td>105</td>\n",
       "      <td>113</td>\n",
       "      <td>113</td>\n",
       "      <td>...</td>\n",
       "      <td>234.0</td>\n",
       "      <td>196.0</td>\n",
       "      <td>218.0</td>\n",
       "      <td>226.0</td>\n",
       "      <td>201.0</td>\n",
       "      <td>219.0</td>\n",
       "      <td>226.0</td>\n",
       "      <td>136.0</td>\n",
       "      <td>142.0</td>\n",
       "      <td>146.0</td>\n",
       "      <td>98.0</td>\n",
       "      <td>97.0</td>\n",
       "      <td>103.0</td>\n",
       "      <td>101.0</td>\n",
       "      <td>100.0</td>\n",
       "      <td>106.0</td>\n",
       "      <td>96.0</td>\n",
       "      <td>95.0</td>\n",
       "      <td>101.0</td>\n",
       "      <td>93.0</td>\n",
       "      <td>92.0</td>\n",
       "      <td>98.0</td>\n",
       "      <td>89.0</td>\n",
       "      <td>88.0</td>\n",
       "      <td>94.0</td>\n",
       "      <td>86.0</td>\n",
       "      <td>85.0</td>\n",
       "      <td>91.0</td>\n",
       "      <td>83.0</td>\n",
       "      <td>82.0</td>\n",
       "      <td>88.0</td>\n",
       "      <td>80.0</td>\n",
       "      <td>79.0</td>\n",
       "      <td>85.0</td>\n",
       "      <td>76.0</td>\n",
       "      <td>76.0</td>\n",
       "      <td>84.0</td>\n",
       "      <td>71.0</td>\n",
       "      <td>71.0</td>\n",
       "      <td>79.0</td>\n",
       "    </tr>\n",
       "    <tr>\n",
       "      <th>4</th>\n",
       "      <td>50</td>\n",
       "      <td>37</td>\n",
       "      <td>29</td>\n",
       "      <td>48</td>\n",
       "      <td>37</td>\n",
       "      <td>30</td>\n",
       "      <td>47</td>\n",
       "      <td>36</td>\n",
       "      <td>33</td>\n",
       "      <td>46</td>\n",
       "      <td>34</td>\n",
       "      <td>34</td>\n",
       "      <td>46</td>\n",
       "      <td>33</td>\n",
       "      <td>36</td>\n",
       "      <td>39</td>\n",
       "      <td>30</td>\n",
       "      <td>33</td>\n",
       "      <td>34</td>\n",
       "      <td>30</td>\n",
       "      <td>33</td>\n",
       "      <td>29</td>\n",
       "      <td>34</td>\n",
       "      <td>34</td>\n",
       "      <td>24</td>\n",
       "      <td>31</td>\n",
       "      <td>28</td>\n",
       "      <td>24</td>\n",
       "      <td>26</td>\n",
       "      <td>24</td>\n",
       "      <td>21</td>\n",
       "      <td>22</td>\n",
       "      <td>21</td>\n",
       "      <td>18</td>\n",
       "      <td>18</td>\n",
       "      <td>16</td>\n",
       "      <td>17</td>\n",
       "      <td>16</td>\n",
       "      <td>13</td>\n",
       "      <td>19</td>\n",
       "      <td>...</td>\n",
       "      <td>25.0</td>\n",
       "      <td>26.0</td>\n",
       "      <td>14.0</td>\n",
       "      <td>21.0</td>\n",
       "      <td>21.0</td>\n",
       "      <td>10.0</td>\n",
       "      <td>15.0</td>\n",
       "      <td>17.0</td>\n",
       "      <td>9.0</td>\n",
       "      <td>12.0</td>\n",
       "      <td>11.0</td>\n",
       "      <td>8.0</td>\n",
       "      <td>9.0</td>\n",
       "      <td>6.0</td>\n",
       "      <td>6.0</td>\n",
       "      <td>5.0</td>\n",
       "      <td>8.0</td>\n",
       "      <td>10.0</td>\n",
       "      <td>9.0</td>\n",
       "      <td>5.0</td>\n",
       "      <td>10.0</td>\n",
       "      <td>8.0</td>\n",
       "      <td>5.0</td>\n",
       "      <td>8.0</td>\n",
       "      <td>7.0</td>\n",
       "      <td>9.0</td>\n",
       "      <td>9.0</td>\n",
       "      <td>10.0</td>\n",
       "      <td>11.0</td>\n",
       "      <td>7.0</td>\n",
       "      <td>9.0</td>\n",
       "      <td>13.0</td>\n",
       "      <td>4.0</td>\n",
       "      <td>5.0</td>\n",
       "      <td>17.0</td>\n",
       "      <td>2.0</td>\n",
       "      <td>3.0</td>\n",
       "      <td>22.0</td>\n",
       "      <td>3.0</td>\n",
       "      <td>4.0</td>\n",
       "    </tr>\n",
       "  </tbody>\n",
       "</table>\n",
       "<p>5 rows × 7500 columns</p>\n",
       "</div>"
      ],
      "text/plain": [
       "     0    1    2    3    4    5  ...   7494   7495   7496   7497   7498   7499\n",
       "0  165  179  185  165  179  185  ...   40.0   43.0   50.0   41.0   44.0   51.0\n",
       "1  246  246  246  241  242  241  ...  105.0  109.0  120.0  109.0  114.0  124.0\n",
       "2  255  255  255  238  239  237  ...  255.0  255.0  255.0  255.0  255.0  255.0\n",
       "3   87   86   92   89   89   95  ...   76.0   76.0   84.0   71.0   71.0   79.0\n",
       "4   50   37   29   48   37   30  ...   17.0    2.0    3.0   22.0    3.0    4.0\n",
       "\n",
       "[5 rows x 7500 columns]"
      ]
     },
     "execution_count": 12,
     "metadata": {
      "tags": []
     },
     "output_type": "execute_result"
    }
   ],
   "source": [
    "x = train.iloc[:,0:7500]\n",
    "x.head()"
   ]
  },
  {
   "cell_type": "code",
   "execution_count": 13,
   "metadata": {
    "colab": {
     "base_uri": "https://localhost:8080/"
    },
    "id": "jl0-kixYt4OY",
    "outputId": "949be244-1c89-4985-8024-0751d9aa6da7"
   },
   "outputs": [
    {
     "data": {
      "text/plain": [
       "0    1\n",
       "1    1\n",
       "2    1\n",
       "3    1\n",
       "4    1\n",
       "Name: 7500, dtype: int64"
      ]
     },
     "execution_count": 13,
     "metadata": {
      "tags": []
     },
     "output_type": "execute_result"
    }
   ],
   "source": [
    "y = train.iloc[:,7500]\n",
    "y.head()"
   ]
  },
  {
   "cell_type": "markdown",
   "metadata": {
    "id": "K9Aglovm5Yxt"
   },
   "source": [
    "Normalizing the data by mean subtraction followed by standard deviation division."
   ]
  },
  {
   "cell_type": "code",
   "execution_count": 14,
   "metadata": {
    "id": "mtWyu8Ojt9bQ"
   },
   "outputs": [],
   "source": [
    "sc = StandardScaler()\n",
    "x = sc.fit_transform(x.values)\n",
    "y = y.values"
   ]
  },
  {
   "cell_type": "markdown",
   "metadata": {
    "id": "7Z_PHWObESM7"
   },
   "source": [
    "Spiliting the train-test dataset"
   ]
  },
  {
   "cell_type": "code",
   "execution_count": 16,
   "metadata": {
    "id": "3T2qk01BuBp6"
   },
   "outputs": [],
   "source": [
    "x_train, x_test, y_train, y_test = train_test_split(x, y, test_size=0.5)"
   ]
  },
  {
   "cell_type": "markdown",
   "metadata": {
    "id": "KB-WsY7uuGHo"
   },
   "source": [
    "fitting the model without using feature selection"
   ]
  },
  {
   "cell_type": "markdown",
   "metadata": {
    "id": "SHIfRd9KQPeQ"
   },
   "source": [
    "For model 2"
   ]
  },
  {
   "cell_type": "code",
   "execution_count": 17,
   "metadata": {
    "colab": {
     "base_uri": "https://localhost:8080/"
    },
    "id": "bYWraAD3uJvY",
    "outputId": "926531b0-6a0a-410e-e934-ff19a44f6b39"
   },
   "outputs": [
    {
     "data": {
      "text/plain": [
       "SVC(C=1.0, break_ties=False, cache_size=200, class_weight=None, coef0=0.0,\n",
       "    decision_function_shape='ovr', degree=3, gamma='auto', kernel='rbf',\n",
       "    max_iter=-1, probability=True, random_state=None, shrinking=True, tol=0.001,\n",
       "    verbose=False)"
      ]
     },
     "execution_count": 17,
     "metadata": {
      "tags": []
     },
     "output_type": "execute_result"
    }
   ],
   "source": [
    "clf = svm.SVC(gamma = 'auto',probability = True)\n",
    "clf.fit(x_train,y_train)"
   ]
  },
  {
   "cell_type": "code",
   "execution_count": 18,
   "metadata": {
    "colab": {
     "base_uri": "https://localhost:8080/"
    },
    "id": "zSB5_PqCuNrM",
    "outputId": "1fac80f6-e9e4-4d35-c07c-f57eb456217d"
   },
   "outputs": [
    {
     "data": {
      "text/plain": [
       "0.8613333333333333"
      ]
     },
     "execution_count": 18,
     "metadata": {
      "tags": []
     },
     "output_type": "execute_result"
    }
   ],
   "source": [
    "y_pred = clf.predict(x_test)\n",
    "accuracy = metrics.accuracy_score(y_test,y_pred)\n",
    "accuracy"
   ]
  },
  {
   "cell_type": "code",
   "execution_count": 19,
   "metadata": {
    "id": "YI1vuzbV0jxn"
   },
   "outputs": [],
   "source": [
    "y_pred_proba = clf.predict_proba(x_test)"
   ]
  },
  {
   "cell_type": "code",
   "execution_count": 20,
   "metadata": {
    "colab": {
     "base_uri": "https://localhost:8080/"
    },
    "id": "tIYzp6kauRPn",
    "outputId": "fa3575e7-f922-4013-c496-0536c0cf2baf"
   },
   "outputs": [
    {
     "data": {
      "text/plain": [
       "array([[326,  70],\n",
       "       [ 34, 320]])"
      ]
     },
     "execution_count": 20,
     "metadata": {
      "tags": []
     },
     "output_type": "execute_result"
    }
   ],
   "source": [
    "cm1 = confusion_matrix(y_test, y_pred)\n",
    "cm1"
   ]
  },
  {
   "cell_type": "code",
   "execution_count": 22,
   "metadata": {
    "colab": {
     "base_uri": "https://localhost:8080/",
     "height": 459
    },
    "id": "U4WRnxDiBF99",
    "outputId": "bd3095a3-13e7-40c3-88d7-f5c09a25bb2c"
   },
   "outputs": [
    {
     "data": {
      "text/plain": [
       "Text(69.0, 0.5, 'Truth')"
      ]
     },
     "execution_count": 22,
     "metadata": {
      "tags": []
     },
     "output_type": "execute_result"
    },
    {
     "data": {
      "image/png": "[encoded data removed]",
      "text/plain": [
       "<Figure size 720x504 with 2 Axes>"
      ]
     },
     "metadata": {
      "needs_background": "light",
      "tags": []
     },
     "output_type": "display_data"
    }
   ],
   "source": [
    "plt.figure(figsize=(10,7))\n",
    "sns.heatmap(cm1, annot=True)\n",
    "plt.xlabel('Predicted')\n",
    "plt.ylabel('Truth')"
   ]
  },
  {
   "cell_type": "code",
   "execution_count": 23,
   "metadata": {
    "colab": {
     "base_uri": "https://localhost:8080/"
    },
    "id": "13qi-nYnzrIR",
    "outputId": "b4a8c21b-365e-4e16-b773-6d80e2c9a06c"
   },
   "outputs": [
    {
     "name": "stdout",
     "output_type": "stream",
     "text": [
      "              precision    recall  f1-score   support\n",
      "\n",
      "           0       0.91      0.82      0.86       396\n",
      "           1       0.82      0.90      0.86       354\n",
      "\n",
      "    accuracy                           0.86       750\n",
      "   macro avg       0.86      0.86      0.86       750\n",
      "weighted avg       0.87      0.86      0.86       750\n",
      "\n"
     ]
    }
   ],
   "source": [
    "print(classification_report(y_test, y_pred))"
   ]
  },
  {
   "cell_type": "code",
   "execution_count": 24,
   "metadata": {
    "colab": {
     "base_uri": "https://localhost:8080/",
     "height": 312
    },
    "id": "wdx_g4dhz3pZ",
    "outputId": "587ac4a3-6bcb-4acd-b02a-47b2e612620b"
   },
   "outputs": [
    {
     "data": {
      "text/plain": [
       "<matplotlib.legend.Legend at 0x7fb5dbbbc7d0>"
      ]
     },
     "execution_count": 24,
     "metadata": {
      "tags": []
     },
     "output_type": "execute_result"
    },
    {
     "data": {
      "image/png": "[encoded data removed]",
      "text/plain": [
       "<Figure size 432x288 with 1 Axes>"
      ]
     },
     "metadata": {
      "needs_background": "light",
      "tags": []
     },
     "output_type": "display_data"
    }
   ],
   "source": [
    "fpr, tpr, thresholds = roc_curve(y_test,y_pred_proba[:,1])\n",
    "plt.plot(fpr, tpr, label='ROC curve')\n",
    "plt.plot([0, 1], [0, 1], 'k--', label='Random guess')\n",
    "plt.xlabel('False Positive Rate')\n",
    "plt.ylabel('True Positive Rate')\n",
    "plt.title('ROC Curve')\n",
    "plt.xlim([-0.02, 1])\n",
    "plt.ylim([0, 1.02])\n",
    "plt.legend(loc=\"lower right\")"
   ]
  },
  {
   "cell_type": "code",
   "execution_count": 25,
   "metadata": {
    "colab": {
     "base_uri": "https://localhost:8080/"
    },
    "id": "2zidfoaP1vsj",
    "outputId": "eed671fc-841b-46bb-9d33-2a9c00d93659"
   },
   "outputs": [
    {
     "data": {
      "text/plain": [
       "0.31027748718179193"
      ]
     },
     "execution_count": 25,
     "metadata": {
      "tags": []
     },
     "output_type": "execute_result"
    }
   ],
   "source": [
    "log_loss(y_test,y_pred_proba)"
   ]
  },
  {
   "cell_type": "markdown",
   "metadata": {
    "id": "Ehn039Xcu9sE"
   },
   "source": [
    "using cross validation"
   ]
  },
  {
   "cell_type": "code",
   "execution_count": 26,
   "metadata": {
    "colab": {
     "base_uri": "https://localhost:8080/"
    },
    "id": "b-ssRo_WuVmk",
    "outputId": "6aef9a67-6e24-48d8-a251-0f5a4f2d3e7c"
   },
   "outputs": [
    {
     "name": "stdout",
     "output_type": "stream",
     "text": [
      "[0.87666667 0.89       0.85       0.89       0.88628763]\n"
     ]
    }
   ],
   "source": [
    "print(cross_val_score(clf, x, y, cv=5))"
   ]
  },
  {
   "cell_type": "markdown",
   "metadata": {
    "id": "1aYrQ_NDugzR"
   },
   "source": [
    "fitting the model2 using feature selection"
   ]
  },
  {
   "cell_type": "code",
   "execution_count": 40,
   "metadata": {
    "id": "2mEJ54Veuai9"
   },
   "outputs": [],
   "source": [
    "x_train_std = sc.fit_transform(x_train)\n",
    "x_test_std = sc.fit_transform(x_test)"
   ]
  },
  {
   "cell_type": "code",
   "execution_count": 53,
   "metadata": {
    "id": "igbvNHvvudwT"
   },
   "outputs": [],
   "source": [
    "pca = PCA(0.9999999999)\n",
    "x_train_p = pca.fit_transform(x_train_std) \n",
    "x_test_p = pca.transform(x_test_std)"
   ]
  },
  {
   "cell_type": "code",
   "execution_count": 54,
   "metadata": {
    "colab": {
     "base_uri": "https://localhost:8080/"
    },
    "id": "-p2vJMpFukHj",
    "outputId": "b3d19ff2-9dbe-4a14-9c71-c3232a8b1d61"
   },
   "outputs": [
    {
     "name": "stdout",
     "output_type": "stream",
     "text": [
      "(749, 745)\n",
      "(749, 7500)\n"
     ]
    }
   ],
   "source": [
    "print(x_train_p.shape)\n",
    "print(x_train_std.shape)"
   ]
  },
  {
   "cell_type": "code",
   "execution_count": 55,
   "metadata": {
    "colab": {
     "base_uri": "https://localhost:8080/"
    },
    "id": "QN-XoYiTunNJ",
    "outputId": "3a3a82e1-af84-47fe-f420-b8c780817d95"
   },
   "outputs": [
    {
     "data": {
      "text/plain": [
       "SVC(C=1.0, break_ties=False, cache_size=200, class_weight=None, coef0=0.0,\n",
       "    decision_function_shape='ovr', degree=3, gamma='auto', kernel='rbf',\n",
       "    max_iter=-1, probability=True, random_state=None, shrinking=True, tol=0.001,\n",
       "    verbose=False)"
      ]
     },
     "execution_count": 55,
     "metadata": {
      "tags": []
     },
     "output_type": "execute_result"
    }
   ],
   "source": [
    "model = svm.SVC(gamma = 'auto',probability = True)\n",
    "model.fit(x_train_p,y_train)"
   ]
  },
  {
   "cell_type": "code",
   "execution_count": 56,
   "metadata": {
    "colab": {
     "base_uri": "https://localhost:8080/"
    },
    "id": "-Is_zv3ZuqHE",
    "outputId": "45da2169-24be-4b51-f8be-79d19399d9fc"
   },
   "outputs": [
    {
     "data": {
      "text/plain": [
       "0.632"
      ]
     },
     "execution_count": 56,
     "metadata": {
      "tags": []
     },
     "output_type": "execute_result"
    }
   ],
   "source": [
    "prediction = model.predict(x_test_p)\n",
    "acc_score_pca = metrics.accuracy_score(prediction,y_test)\n",
    "acc_score_pca"
   ]
  },
  {
   "cell_type": "code",
   "execution_count": 57,
   "metadata": {
    "id": "qvLV406G2RZN"
   },
   "outputs": [],
   "source": [
    "prediction_proba = model.predict_proba(x_test_p)"
   ]
  },
  {
   "cell_type": "code",
   "execution_count": 58,
   "metadata": {
    "colab": {
     "base_uri": "https://localhost:8080/"
    },
    "id": "Qs2pzWXWute4",
    "outputId": "86f7d9b7-bb75-432e-c80f-0fb33d1aabc9"
   },
   "outputs": [
    {
     "data": {
      "text/plain": [
       "array([[123, 273],\n",
       "       [  3, 351]])"
      ]
     },
     "execution_count": 58,
     "metadata": {
      "tags": []
     },
     "output_type": "execute_result"
    }
   ],
   "source": [
    "cm2 = confusion_matrix(y_test, prediction)\n",
    "cm2"
   ]
  },
  {
   "cell_type": "code",
   "execution_count": 59,
   "metadata": {
    "colab": {
     "base_uri": "https://localhost:8080/",
     "height": 462
    },
    "id": "Y7hl_KGcA-fh",
    "outputId": "a18d43c2-e13d-48ef-f2f6-23c9e5a12ef5"
   },
   "outputs": [
    {
     "data": {
      "text/plain": [
       "Text(69.0, 0.5, 'Truth')"
      ]
     },
     "execution_count": 59,
     "metadata": {
      "tags": []
     },
     "output_type": "execute_result"
    },
    {
     "data": {
      "image/png": "[encoded data removed]",
      "text/plain": [
       "<Figure size 720x504 with 2 Axes>"
      ]
     },
     "metadata": {
      "needs_background": "light",
      "tags": []
     },
     "output_type": "display_data"
    }
   ],
   "source": [
    "plt.figure(figsize=(10,7))\n",
    "sns.heatmap(cm2, annot=True)\n",
    "plt.xlabel('Predicted')\n",
    "plt.ylabel('Truth')"
   ]
  },
  {
   "cell_type": "code",
   "execution_count": 60,
   "metadata": {
    "colab": {
     "base_uri": "https://localhost:8080/"
    },
    "id": "g4Fg5roB2K7t",
    "outputId": "e3ece2df-24ed-49a4-f79f-e08eb73a1457"
   },
   "outputs": [
    {
     "name": "stdout",
     "output_type": "stream",
     "text": [
      "              precision    recall  f1-score   support\n",
      "\n",
      "           0       0.98      0.31      0.47       396\n",
      "           1       0.56      0.99      0.72       354\n",
      "\n",
      "    accuracy                           0.63       750\n",
      "   macro avg       0.77      0.65      0.59       750\n",
      "weighted avg       0.78      0.63      0.59       750\n",
      "\n"
     ]
    }
   ],
   "source": [
    "print(classification_report(y_test, prediction))"
   ]
  },
  {
   "cell_type": "code",
   "execution_count": 61,
   "metadata": {
    "colab": {
     "base_uri": "https://localhost:8080/",
     "height": 312
    },
    "id": "ndzdyvs62fke",
    "outputId": "91da9c2c-81df-487b-843d-72d60a0ba29a"
   },
   "outputs": [
    {
     "data": {
      "text/plain": [
       "<matplotlib.legend.Legend at 0x7fb5dbe26690>"
      ]
     },
     "execution_count": 61,
     "metadata": {
      "tags": []
     },
     "output_type": "execute_result"
    },
    {
     "data": {
      "image/png": "[encoded data removed]",
      "text/plain": [
       "<Figure size 432x288 with 1 Axes>"
      ]
     },
     "metadata": {
      "needs_background": "light",
      "tags": []
     },
     "output_type": "display_data"
    }
   ],
   "source": [
    "fpr, tpr, thresholds = roc_curve(y_test,prediction_proba[:,1])\n",
    "plt.plot(fpr, tpr, label='ROC curve')\n",
    "plt.plot([0, 1], [0, 1], 'k--', label='Random guess')\n",
    "plt.xlabel('False Positive Rate')\n",
    "plt.ylabel('True Positive Rate')\n",
    "plt.title('ROC Curve')\n",
    "plt.xlim([-0.02, 1])\n",
    "plt.ylim([0, 1.02])\n",
    "plt.legend(loc=\"lower right\")"
   ]
  },
  {
   "cell_type": "code",
   "execution_count": 62,
   "metadata": {
    "colab": {
     "base_uri": "https://localhost:8080/"
    },
    "id": "FdokuIIO2oyo",
    "outputId": "6289ee10-5046-4d20-afa5-60ebf6a322c4"
   },
   "outputs": [
    {
     "data": {
      "text/plain": [
       "0.5633087644031788"
      ]
     },
     "execution_count": 62,
     "metadata": {
      "tags": []
     },
     "output_type": "execute_result"
    }
   ],
   "source": [
    "log_loss(y_test,prediction_proba)"
   ]
  },
  {
   "cell_type": "markdown",
   "metadata": {
    "id": "WcKebt41u4wn"
   },
   "source": [
    "using cross validation"
   ]
  },
  {
   "cell_type": "code",
   "execution_count": 73,
   "metadata": {
    "colab": {
     "base_uri": "https://localhost:8080/"
    },
    "id": "RuNpkIOEuwGc",
    "outputId": "9f945fb8-afa8-4f82-f4c5-794b460dca58"
   },
   "outputs": [
    {
     "name": "stdout",
     "output_type": "stream",
     "text": [
      "[0.62       0.64       0.68666667 0.62       0.62416107]\n"
     ]
    }
   ],
   "source": [
    "print(cross_val_score(model, x_train_p, y_train, cv=5))"
   ]
  },
  {
   "cell_type": "markdown",
   "metadata": {},
   "source": [
    "# MLP MODEL "
   ]
  },
  {
   "cell_type": "markdown",
   "metadata": {
    "id": "aNCIFaqMRrK0"
   },
   "source": [
    "fitting the model3 without feature selection"
   ]
  },
  {
   "cell_type": "markdown",
   "metadata": {
    "id": "K7CMsZzjQaHq"
   },
   "source": [
    "For model3"
   ]
  },
  {
   "cell_type": "code",
   "execution_count": 64,
   "metadata": {
    "colab": {
     "base_uri": "https://localhost:8080/"
    },
    "id": "OnkLvaMLQUYt",
    "outputId": "775fee27-dacd-45e8-df27-e7b1d1c0ed48"
   },
   "outputs": [
    {
     "data": {
      "text/plain": [
       "MLPClassifier(activation='relu', alpha=0.0001, batch_size='auto', beta_1=0.9,\n",
       "              beta_2=0.999, early_stopping=False, epsilon=1e-08,\n",
       "              hidden_layer_sizes=(100,), learning_rate='constant',\n",
       "              learning_rate_init=0.001, max_fun=15000, max_iter=200,\n",
       "              momentum=0.9, n_iter_no_change=10, nesterovs_momentum=True,\n",
       "              power_t=0.5, random_state=None, shuffle=True, solver='adam',\n",
       "              tol=0.0001, validation_fraction=0.1, verbose=False,\n",
       "              warm_start=False)"
      ]
     },
     "execution_count": 64,
     "metadata": {
      "tags": []
     },
     "output_type": "execute_result"
    }
   ],
   "source": [
    "clf3 = MLPClassifier()\n",
    "clf3.fit(x_train,y_train)"
   ]
  },
  {
   "cell_type": "code",
   "execution_count": 65,
   "metadata": {
    "colab": {
     "base_uri": "https://localhost:8080/"
    },
    "id": "MiXgMiptQlhI",
    "outputId": "23b11f4c-ce29-4e8c-c262-d8ad5c3d1119"
   },
   "outputs": [
    {
     "data": {
      "text/plain": [
       "0.8706666666666667"
      ]
     },
     "execution_count": 65,
     "metadata": {
      "tags": []
     },
     "output_type": "execute_result"
    }
   ],
   "source": [
    "y_pred = clf3.predict(x_test)\n",
    "accuracy = metrics.accuracy_score(y_test,y_pred)\n",
    "accuracy"
   ]
  },
  {
   "cell_type": "code",
   "execution_count": 66,
   "metadata": {
    "id": "2cQjRSqXQl-U"
   },
   "outputs": [],
   "source": [
    "y_pred_proba = clf3.predict_proba(x_test)"
   ]
  },
  {
   "cell_type": "code",
   "execution_count": 67,
   "metadata": {
    "colab": {
     "base_uri": "https://localhost:8080/"
    },
    "id": "HYv0EsjZQmd6",
    "outputId": "5cd12b72-992c-4e85-dffc-24ecbf2e4a70"
   },
   "outputs": [
    {
     "data": {
      "text/plain": [
       "array([[335,  61],\n",
       "       [ 36, 318]])"
      ]
     },
     "execution_count": 67,
     "metadata": {
      "tags": []
     },
     "output_type": "execute_result"
    }
   ],
   "source": [
    "cm3 = confusion_matrix(y_test, y_pred)\n",
    "cm3"
   ]
  },
  {
   "cell_type": "code",
   "execution_count": 68,
   "metadata": {
    "colab": {
     "base_uri": "https://localhost:8080/",
     "height": 459
    },
    "id": "rNq0HBF2Q7Ge",
    "outputId": "e6c1c8e4-4815-43fd-c0a0-c7acc885b5f3"
   },
   "outputs": [
    {
     "data": {
      "text/plain": [
       "Text(69.0, 0.5, 'Truth')"
      ]
     },
     "execution_count": 68,
     "metadata": {
      "tags": []
     },
     "output_type": "execute_result"
    },
    {
     "data": {
      "image/png": "[encoded data removed]",
      "text/plain": [
       "<Figure size 720x504 with 2 Axes>"
      ]
     },
     "metadata": {
      "needs_background": "light",
      "tags": []
     },
     "output_type": "display_data"
    }
   ],
   "source": [
    "plt.figure(figsize=(10,7))\n",
    "sns.heatmap(cm3, annot=True)\n",
    "plt.xlabel('Predicted')\n",
    "plt.ylabel('Truth')"
   ]
  },
  {
   "cell_type": "code",
   "execution_count": 69,
   "metadata": {
    "colab": {
     "base_uri": "https://localhost:8080/"
    },
    "id": "b7NEkXZuRBWa",
    "outputId": "f225c53d-ed4c-48cb-a6cf-1d7342fd9d31"
   },
   "outputs": [
    {
     "name": "stdout",
     "output_type": "stream",
     "text": [
      "              precision    recall  f1-score   support\n",
      "\n",
      "           0       0.90      0.85      0.87       396\n",
      "           1       0.84      0.90      0.87       354\n",
      "\n",
      "    accuracy                           0.87       750\n",
      "   macro avg       0.87      0.87      0.87       750\n",
      "weighted avg       0.87      0.87      0.87       750\n",
      "\n"
     ]
    }
   ],
   "source": [
    "print(classification_report(y_test, y_pred))"
   ]
  },
  {
   "cell_type": "code",
   "execution_count": 70,
   "metadata": {
    "colab": {
     "base_uri": "https://localhost:8080/",
     "height": 312
    },
    "id": "pUsTNQw-RGZ4",
    "outputId": "46a00d02-811d-486c-be01-65681dd2da47"
   },
   "outputs": [
    {
     "data": {
      "text/plain": [
       "<matplotlib.legend.Legend at 0x7fb5dc1129d0>"
      ]
     },
     "execution_count": 70,
     "metadata": {
      "tags": []
     },
     "output_type": "execute_result"
    },
    {
     "data": {
      "image/png": "[encoded data removed]",
      "text/plain": [
       "<Figure size 432x288 with 1 Axes>"
      ]
     },
     "metadata": {
      "needs_background": "light",
      "tags": []
     },
     "output_type": "display_data"
    }
   ],
   "source": [
    "fpr, tpr, thresholds = roc_curve(y_test,y_pred_proba[:,1])\n",
    "plt.plot(fpr, tpr, label='ROC curve')\n",
    "plt.plot([0, 1], [0, 1], 'k--', label='Random guess')\n",
    "plt.xlabel('False Positive Rate')\n",
    "plt.ylabel('True Positive Rate')\n",
    "plt.title('ROC Curve')\n",
    "plt.xlim([-0.02, 1])\n",
    "plt.ylim([0, 1.02])\n",
    "plt.legend(loc=\"lower right\")"
   ]
  },
  {
   "cell_type": "code",
   "execution_count": 71,
   "metadata": {
    "colab": {
     "base_uri": "https://localhost:8080/"
    },
    "id": "Uc9DkTeURR7Y",
    "outputId": "7cd17211-8206-4dd5-832b-61e6be3b7412"
   },
   "outputs": [
    {
     "data": {
      "text/plain": [
       "0.6217681674686503"
      ]
     },
     "execution_count": 71,
     "metadata": {
      "tags": []
     },
     "output_type": "execute_result"
    }
   ],
   "source": [
    "log_loss(y_test,y_pred_proba)"
   ]
  },
  {
   "cell_type": "markdown",
   "metadata": {
    "id": "NpiKp9meRfz7"
   },
   "source": [
    "Using cross validation"
   ]
  },
  {
   "cell_type": "code",
   "execution_count": 74,
   "metadata": {
    "colab": {
     "base_uri": "https://localhost:8080/"
    },
    "id": "lryFlyzqRYlM",
    "outputId": "0b95adc6-7d02-44dc-f5bf-a0754783b8c7"
   },
   "outputs": [
    {
     "name": "stdout",
     "output_type": "stream",
     "text": [
      "[0.87333333 0.89666667 0.87333333 0.88666667 0.88628763]\n"
     ]
    }
   ],
   "source": [
    "print(cross_val_score(clf3, x, y, cv=5))"
   ]
  },
  {
   "cell_type": "markdown",
   "metadata": {
    "id": "jsLr9yESRv8T"
   },
   "source": [
    "fitting the model3 using feature selection"
   ]
  },
  {
   "cell_type": "code",
   "execution_count": 75,
   "metadata": {
    "id": "ERkCX3jDRxcO"
   },
   "outputs": [],
   "source": [
    "pca = PCA(0.9999999999)\n",
    "x_train_p = pca.fit_transform(x_train_std) \n",
    "x_test_p = pca.transform(x_test_std)"
   ]
  },
  {
   "cell_type": "code",
   "execution_count": 76,
   "metadata": {
    "colab": {
     "base_uri": "https://localhost:8080/"
    },
    "id": "AQQSWaaMTrkY",
    "outputId": "cbbdba17-5a84-47b0-c584-88cf72c3f317"
   },
   "outputs": [
    {
     "name": "stdout",
     "output_type": "stream",
     "text": [
      "(749, 745)\n",
      "(749, 7500)\n"
     ]
    }
   ],
   "source": [
    "print(x_train_p.shape)\n",
    "print(x_train_std.shape)"
   ]
  },
  {
   "cell_type": "code",
   "execution_count": 77,
   "metadata": {
    "colab": {
     "base_uri": "https://localhost:8080/"
    },
    "id": "Eni_D7gATvqi",
    "outputId": "0669b8a9-d961-4245-8955-f1c939ffd3dc"
   },
   "outputs": [
    {
     "data": {
      "text/plain": [
       "MLPClassifier(activation='relu', alpha=0.0001, batch_size='auto', beta_1=0.9,\n",
       "              beta_2=0.999, early_stopping=False, epsilon=1e-08,\n",
       "              hidden_layer_sizes=(100,), learning_rate='constant',\n",
       "              learning_rate_init=0.001, max_fun=15000, max_iter=200,\n",
       "              momentum=0.9, n_iter_no_change=10, nesterovs_momentum=True,\n",
       "              power_t=0.5, random_state=None, shuffle=True, solver='adam',\n",
       "              tol=0.0001, validation_fraction=0.1, verbose=False,\n",
       "              warm_start=False)"
      ]
     },
     "execution_count": 77,
     "metadata": {
      "tags": []
     },
     "output_type": "execute_result"
    }
   ],
   "source": [
    "model4 = MLPClassifier()\n",
    "model4.fit(x_train_p,y_train)"
   ]
  },
  {
   "cell_type": "code",
   "execution_count": 78,
   "metadata": {
    "colab": {
     "base_uri": "https://localhost:8080/"
    },
    "id": "jksk3q5XT2R9",
    "outputId": "4bd105d2-9a06-4d90-9cf4-a20dc31a6613"
   },
   "outputs": [
    {
     "data": {
      "text/plain": [
       "0.8373333333333334"
      ]
     },
     "execution_count": 78,
     "metadata": {
      "tags": []
     },
     "output_type": "execute_result"
    }
   ],
   "source": [
    "prediction = model4.predict(x_test_p)\n",
    "acc_score_pca = metrics.accuracy_score(prediction,y_test)\n",
    "acc_score_pca"
   ]
  },
  {
   "cell_type": "code",
   "execution_count": 79,
   "metadata": {
    "id": "wK1O7vgcT9Nq"
   },
   "outputs": [],
   "source": [
    "prediction_proba = model4.predict_proba(x_test_p)"
   ]
  },
  {
   "cell_type": "code",
   "execution_count": 80,
   "metadata": {
    "colab": {
     "base_uri": "https://localhost:8080/"
    },
    "id": "_i9Sl8ogUCuL",
    "outputId": "c5058055-15c7-44b6-e840-ec76866b1d5b"
   },
   "outputs": [
    {
     "data": {
      "text/plain": [
       "array([[324,  72],\n",
       "       [ 50, 304]])"
      ]
     },
     "execution_count": 80,
     "metadata": {
      "tags": []
     },
     "output_type": "execute_result"
    }
   ],
   "source": [
    "cm4 = confusion_matrix(y_test, prediction)\n",
    "cm4"
   ]
  },
  {
   "cell_type": "code",
   "execution_count": 81,
   "metadata": {
    "colab": {
     "base_uri": "https://localhost:8080/",
     "height": 459
    },
    "id": "kkzc4TIrUMyJ",
    "outputId": "8c88f5c3-32c3-4702-b87b-3e57dce91e14"
   },
   "outputs": [
    {
     "data": {
      "text/plain": [
       "Text(69.0, 0.5, 'Truth')"
      ]
     },
     "execution_count": 81,
     "metadata": {
      "tags": []
     },
     "output_type": "execute_result"
    },
    {
     "data": {
      "image/png": "[encoded data removed]",
      "text/plain": [
       "<Figure size 720x504 with 2 Axes>"
      ]
     },
     "metadata": {
      "needs_background": "light",
      "tags": []
     },
     "output_type": "display_data"
    }
   ],
   "source": [
    "plt.figure(figsize=(10,7))\n",
    "sns.heatmap(cm4, annot=True)\n",
    "plt.xlabel('Predicted')\n",
    "plt.ylabel('Truth')"
   ]
  },
  {
   "cell_type": "code",
   "execution_count": 82,
   "metadata": {
    "colab": {
     "base_uri": "https://localhost:8080/"
    },
    "id": "q1ogmacZUNhP",
    "outputId": "01e1ba05-4224-49cd-d1db-0caa2e69940f"
   },
   "outputs": [
    {
     "name": "stdout",
     "output_type": "stream",
     "text": [
      "              precision    recall  f1-score   support\n",
      "\n",
      "           0       0.87      0.82      0.84       396\n",
      "           1       0.81      0.86      0.83       354\n",
      "\n",
      "    accuracy                           0.84       750\n",
      "   macro avg       0.84      0.84      0.84       750\n",
      "weighted avg       0.84      0.84      0.84       750\n",
      "\n"
     ]
    }
   ],
   "source": [
    "print(classification_report(y_test, prediction))"
   ]
  },
  {
   "cell_type": "code",
   "execution_count": 83,
   "metadata": {
    "colab": {
     "base_uri": "https://localhost:8080/",
     "height": 312
    },
    "id": "vEWXtcmSUSOB",
    "outputId": "44b7d854-e07f-4e9d-ef27-791e4e7cee8c"
   },
   "outputs": [
    {
     "data": {
      "text/plain": [
       "<matplotlib.legend.Legend at 0x7fb5dd824ad0>"
      ]
     },
     "execution_count": 83,
     "metadata": {
      "tags": []
     },
     "output_type": "execute_result"
    },
    {
     "data": {
      "image/png": "[encoded data removed]",
      "text/plain": [
       "<Figure size 432x288 with 1 Axes>"
      ]
     },
     "metadata": {
      "needs_background": "light",
      "tags": []
     },
     "output_type": "display_data"
    }
   ],
   "source": [
    "fpr, tpr, thresholds = roc_curve(y_test,prediction_proba[:,1])\n",
    "plt.plot(fpr, tpr, label='ROC curve')\n",
    "plt.plot([0, 1], [0, 1], 'k--', label='Random guess')\n",
    "plt.xlabel('False Positive Rate')\n",
    "plt.ylabel('True Positive Rate')\n",
    "plt.title('ROC Curve')\n",
    "plt.xlim([-0.02, 1])\n",
    "plt.ylim([0, 1.02])\n",
    "plt.legend(loc=\"lower right\")"
   ]
  },
  {
   "cell_type": "code",
   "execution_count": 84,
   "metadata": {
    "colab": {
     "base_uri": "https://localhost:8080/"
    },
    "id": "RT1kKYRdUSvd",
    "outputId": "f14e7d14-778d-4c7c-f60b-0d767118f92b"
   },
   "outputs": [
    {
     "data": {
      "text/plain": [
       "0.48975080326009085"
      ]
     },
     "execution_count": 84,
     "metadata": {
      "tags": []
     },
     "output_type": "execute_result"
    }
   ],
   "source": [
    "log_loss(y_test,prediction_proba)"
   ]
  },
  {
   "cell_type": "markdown",
   "metadata": {
    "id": "VNEXHnlUUrck"
   },
   "source": [
    "Cross validation"
   ]
  },
  {
   "cell_type": "code",
   "execution_count": 85,
   "metadata": {
    "colab": {
     "base_uri": "https://localhost:8080/"
    },
    "id": "m9UOnePmUTgV",
    "outputId": "5669d851-7c3a-496b-d087-26af9b00982a"
   },
   "outputs": [
    {
     "name": "stdout",
     "output_type": "stream",
     "text": [
      "[0.79333333 0.81333333 0.81333333 0.81333333 0.77852349]\n"
     ]
    }
   ],
   "source": [
    "print(cross_val_score(model4, x_train_p, y_train, cv=5))"
   ]
  }
 ],
 "metadata": {
  "colab": {
   "collapsed_sections": [],
   "name": "B19EE076_mini_model2_model3_project.ipynb",
   "provenance": []
  },
  "kernelspec": {
   "display_name": "Python 3",
   "language": "python",
   "name": "python3"
  },
  "language_info": {
   "codemirror_mode": {
    "name": "ipython",
    "version": 3
   },
   "file_extension": ".py",
   "mimetype": "text/x-python",
   "name": "python",
   "nbconvert_exporter": "python",
   "pygments_lexer": "ipython3",
   "version": "3.7.4"
  }
 },
 "nbformat": 4,
 "nbformat_minor": 1
}
