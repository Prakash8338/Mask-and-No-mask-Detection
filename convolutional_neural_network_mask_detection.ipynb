{
 "cells": [
  {
   "cell_type": "markdown",
   "metadata": {
    "id": "3DR-eO17geWu"
   },
   "source": [
    "# Convolutional Neural Network"
   ]
  },
  {
   "cell_type": "markdown",
   "metadata": {
    "id": "EMefrVPCg-60"
   },
   "source": [
    "### Importing the libraries"
   ]
  },
  {
   "cell_type": "code",
   "execution_count": 5,
   "metadata": {
    "id": "sCV30xyVhFbE"
   },
   "outputs": [],
   "source": [
    "import tensorflow as tf\n",
    "from keras.preprocessing.image import ImageDataGenerator"
   ]
  },
  {
   "cell_type": "code",
   "execution_count": 6,
   "metadata": {
    "colab": {
     "base_uri": "https://localhost:8080/",
     "height": 35
    },
    "id": "FIleuCAjoFD8",
    "outputId": "24a655fa-b448-4112-bd03-6ebbe1447ce5"
   },
   "outputs": [
    {
     "data": {
      "text/plain": [
       "'2.7.0'"
      ]
     },
     "execution_count": 6,
     "metadata": {},
     "output_type": "execute_result"
    }
   ],
   "source": [
    "tf.__version__"
   ]
  },
  {
   "cell_type": "markdown",
   "metadata": {
    "id": "oxQxCBWyoGPE"
   },
   "source": [
    "## Part 1 - Data Preprocessing"
   ]
  },
  {
   "cell_type": "markdown",
   "metadata": {
    "id": "MvE-heJNo3GG"
   },
   "source": [
    "### Preprocessing the Training set"
   ]
  },
  {
   "cell_type": "code",
   "execution_count": 7,
   "metadata": {
    "id": "0koUcJMJpEBD"
   },
   "outputs": [
    {
     "name": "stdout",
     "output_type": "stream",
     "text": [
      "Found 6651 images belonging to 2 classes.\n"
     ]
    }
   ],
   "source": [
    "train_datagen = ImageDataGenerator(rescale = 1./255,\n",
    "                                   shear_range = 0.2,\n",
    "                                   zoom_range = 0.2,\n",
    "                                   horizontal_flip = True)\n",
    "training_set = train_datagen.flow_from_directory('dataset_mask/data_train',\n",
    "                                                 target_size = (64, 64),\n",
    "                                                 batch_size = 32,\n",
    "                                                 class_mode = 'binary')"
   ]
  },
  {
   "cell_type": "markdown",
   "metadata": {
    "id": "mrCMmGw9pHys"
   },
   "source": [
    "### Preprocessing the Test set"
   ]
  },
  {
   "cell_type": "code",
   "execution_count": 8,
   "metadata": {
    "id": "SH4WzfOhpKc3"
   },
   "outputs": [
    {
     "name": "stdout",
     "output_type": "stream",
     "text": [
      "Found 902 images belonging to 2 classes.\n"
     ]
    }
   ],
   "source": [
    "test_datagen = ImageDataGenerator(rescale = 1./255)\n",
    "test_set = test_datagen.flow_from_directory('dataset_mask/data_test',\n",
    "                                            target_size = (64, 64),\n",
    "                                            batch_size = 32,\n",
    "                                            class_mode = 'binary')"
   ]
  },
  {
   "cell_type": "markdown",
   "metadata": {
    "id": "af8O4l90gk7B"
   },
   "source": [
    "## Part 2 - Building the CNN"
   ]
  },
  {
   "cell_type": "markdown",
   "metadata": {
    "id": "ces1gXY2lmoX"
   },
   "source": [
    "### Initialising the CNN"
   ]
  },
  {
   "cell_type": "code",
   "execution_count": 9,
   "metadata": {
    "id": "SAUt4UMPlhLS"
   },
   "outputs": [],
   "source": [
    "cnn = tf.keras.models.Sequential()"
   ]
  },
  {
   "cell_type": "markdown",
   "metadata": {
    "id": "u5YJj_XMl5LF"
   },
   "source": [
    "### Step 1 - Convolution"
   ]
  },
  {
   "cell_type": "code",
   "execution_count": 10,
   "metadata": {
    "id": "XPzPrMckl-hV"
   },
   "outputs": [],
   "source": [
    "cnn.add(tf.keras.layers.Conv2D(filters=32, kernel_size=3, activation='relu', input_shape=[64, 64, 3]))"
   ]
  },
  {
   "cell_type": "markdown",
   "metadata": {
    "id": "tf87FpvxmNOJ"
   },
   "source": [
    "### Step 2 - Pooling"
   ]
  },
  {
   "cell_type": "code",
   "execution_count": 11,
   "metadata": {
    "id": "ncpqPl69mOac"
   },
   "outputs": [],
   "source": [
    "cnn.add(tf.keras.layers.MaxPool2D(pool_size=2, strides=2))"
   ]
  },
  {
   "cell_type": "markdown",
   "metadata": {
    "id": "xaTOgD8rm4mU"
   },
   "source": [
    "### Adding a second convolutional layer"
   ]
  },
  {
   "cell_type": "code",
   "execution_count": 12,
   "metadata": {
    "id": "i_-FZjn_m8gk"
   },
   "outputs": [],
   "source": [
    "cnn.add(tf.keras.layers.Conv2D(filters=32, kernel_size=3, activation='relu'))\n",
    "cnn.add(tf.keras.layers.MaxPool2D(pool_size=2, strides=2))"
   ]
  },
  {
   "cell_type": "markdown",
   "metadata": {
    "id": "tmiEuvTunKfk"
   },
   "source": [
    "### Step 3 - Flattening"
   ]
  },
  {
   "cell_type": "code",
   "execution_count": 13,
   "metadata": {
    "id": "6AZeOGCvnNZn"
   },
   "outputs": [],
   "source": [
    "cnn.add(tf.keras.layers.Flatten())"
   ]
  },
  {
   "cell_type": "markdown",
   "metadata": {
    "id": "dAoSECOm203v"
   },
   "source": [
    "### Step 4 - Full Connection"
   ]
  },
  {
   "cell_type": "code",
   "execution_count": 14,
   "metadata": {
    "id": "8GtmUlLd26Nq"
   },
   "outputs": [],
   "source": [
    "cnn.add(tf.keras.layers.Dense(units=128, activation='relu'))"
   ]
  },
  {
   "cell_type": "markdown",
   "metadata": {
    "id": "yTldFvbX28Na"
   },
   "source": [
    "### Step 5 - Output Layer"
   ]
  },
  {
   "cell_type": "code",
   "execution_count": 15,
   "metadata": {
    "id": "1p_Zj1Mc3Ko_"
   },
   "outputs": [],
   "source": [
    "cnn.add(tf.keras.layers.Dense(units=1, activation='sigmoid'))"
   ]
  },
  {
   "cell_type": "markdown",
   "metadata": {
    "id": "D6XkI90snSDl"
   },
   "source": [
    "## Part 3 - Training the CNN"
   ]
  },
  {
   "cell_type": "markdown",
   "metadata": {
    "id": "vfrFQACEnc6i"
   },
   "source": [
    "### Compiling the CNN"
   ]
  },
  {
   "cell_type": "code",
   "execution_count": 16,
   "metadata": {
    "id": "NALksrNQpUlJ"
   },
   "outputs": [],
   "source": [
    "cnn.compile(optimizer = 'adam', loss = 'binary_crossentropy', metrics = ['accuracy'])"
   ]
  },
  {
   "cell_type": "markdown",
   "metadata": {
    "id": "ehS-v3MIpX2h"
   },
   "source": [
    "### Training the CNN on the Training set and evaluating it on the Test set"
   ]
  },
  {
   "cell_type": "code",
   "execution_count": 17,
   "metadata": {
    "id": "XUj1W4PJptta"
   },
   "outputs": [
    {
     "name": "stdout",
     "output_type": "stream",
     "text": [
      "Epoch 1/25\n",
      " 27/208 [==>...........................] - ETA: 1:19 - loss: 0.6758 - accuracy: 0.6100"
     ]
    },
    {
     "name": "stderr",
     "output_type": "stream",
     "text": [
      "C:\\Users\\DELL\\anaconda3\\lib\\site-packages\\PIL\\Image.py:975: UserWarning: Palette images with Transparency expressed in bytes should be converted to RGBA images\n",
      "  warnings.warn(\n"
     ]
    },
    {
     "name": "stdout",
     "output_type": "stream",
     "text": [
      "208/208 [==============================] - 95s 450ms/step - loss: 0.3758 - accuracy: 0.8321 - val_loss: 0.2148 - val_accuracy: 0.9213\n",
      "Epoch 2/25\n",
      "208/208 [==============================] - 57s 273ms/step - loss: 0.2699 - accuracy: 0.8937 - val_loss: 0.2242 - val_accuracy: 0.9002\n",
      "Epoch 3/25\n",
      "208/208 [==============================] - 56s 269ms/step - loss: 0.2351 - accuracy: 0.9063 - val_loss: 0.1470 - val_accuracy: 0.9457\n",
      "Epoch 4/25\n",
      "208/208 [==============================] - 51s 243ms/step - loss: 0.2130 - accuracy: 0.9140 - val_loss: 0.1615 - val_accuracy: 0.9479\n",
      "Epoch 5/25\n",
      "208/208 [==============================] - 51s 244ms/step - loss: 0.2001 - accuracy: 0.9175 - val_loss: 0.1175 - val_accuracy: 0.9645\n",
      "Epoch 6/25\n",
      "208/208 [==============================] - 51s 245ms/step - loss: 0.1836 - accuracy: 0.9281 - val_loss: 0.0957 - val_accuracy: 0.9734\n",
      "Epoch 7/25\n",
      "208/208 [==============================] - 51s 245ms/step - loss: 0.1684 - accuracy: 0.9340 - val_loss: 0.0865 - val_accuracy: 0.9767\n",
      "Epoch 8/25\n",
      "208/208 [==============================] - 51s 245ms/step - loss: 0.1494 - accuracy: 0.9438 - val_loss: 0.0984 - val_accuracy: 0.9690\n",
      "Epoch 9/25\n",
      "208/208 [==============================] - 51s 247ms/step - loss: 0.1323 - accuracy: 0.9495 - val_loss: 0.0895 - val_accuracy: 0.9745\n",
      "Epoch 10/25\n",
      "208/208 [==============================] - 51s 244ms/step - loss: 0.1238 - accuracy: 0.9540 - val_loss: 0.0892 - val_accuracy: 0.9701\n",
      "Epoch 11/25\n",
      "208/208 [==============================] - 52s 249ms/step - loss: 0.1219 - accuracy: 0.9547 - val_loss: 0.0757 - val_accuracy: 0.9767\n",
      "Epoch 12/25\n",
      "208/208 [==============================] - 51s 247ms/step - loss: 0.0985 - accuracy: 0.9614 - val_loss: 0.1014 - val_accuracy: 0.9623\n",
      "Epoch 13/25\n",
      "208/208 [==============================] - 53s 254ms/step - loss: 0.0925 - accuracy: 0.9677 - val_loss: 0.0587 - val_accuracy: 0.9823\n",
      "Epoch 14/25\n",
      "208/208 [==============================] - 53s 254ms/step - loss: 0.0857 - accuracy: 0.9660 - val_loss: 0.0710 - val_accuracy: 0.9767\n",
      "Epoch 15/25\n",
      "208/208 [==============================] - 54s 260ms/step - loss: 0.0754 - accuracy: 0.9735 - val_loss: 0.0697 - val_accuracy: 0.9767\n",
      "Epoch 16/25\n",
      "208/208 [==============================] - 55s 263ms/step - loss: 0.0711 - accuracy: 0.9765 - val_loss: 0.0626 - val_accuracy: 0.9789\n",
      "Epoch 17/25\n",
      "208/208 [==============================] - 52s 248ms/step - loss: 0.0609 - accuracy: 0.9782 - val_loss: 0.0521 - val_accuracy: 0.9767\n",
      "Epoch 18/25\n",
      "208/208 [==============================] - 52s 247ms/step - loss: 0.0588 - accuracy: 0.9809 - val_loss: 0.0490 - val_accuracy: 0.9823\n",
      "Epoch 19/25\n",
      "208/208 [==============================] - 51s 247ms/step - loss: 0.0597 - accuracy: 0.9779 - val_loss: 0.0495 - val_accuracy: 0.9800\n",
      "Epoch 20/25\n",
      "208/208 [==============================] - 53s 253ms/step - loss: 0.0466 - accuracy: 0.9835 - val_loss: 0.0672 - val_accuracy: 0.9756\n",
      "Epoch 21/25\n",
      "208/208 [==============================] - 51s 247ms/step - loss: 0.0518 - accuracy: 0.9824 - val_loss: 0.0644 - val_accuracy: 0.9789\n",
      "Epoch 22/25\n",
      "208/208 [==============================] - 51s 245ms/step - loss: 0.0432 - accuracy: 0.9853 - val_loss: 0.0506 - val_accuracy: 0.9834\n",
      "Epoch 23/25\n",
      "208/208 [==============================] - 51s 245ms/step - loss: 0.0390 - accuracy: 0.9874 - val_loss: 0.0399 - val_accuracy: 0.9867\n",
      "Epoch 24/25\n",
      "208/208 [==============================] - 51s 247ms/step - loss: 0.0358 - accuracy: 0.9881 - val_loss: 0.0366 - val_accuracy: 0.9867\n",
      "Epoch 25/25\n",
      "208/208 [==============================] - 51s 247ms/step - loss: 0.0320 - accuracy: 0.9896 - val_loss: 0.0818 - val_accuracy: 0.9767\n"
     ]
    },
    {
     "data": {
      "text/plain": [
       "<keras.callbacks.History at 0x1e8cfc5aeb0>"
      ]
     },
     "execution_count": 17,
     "metadata": {},
     "output_type": "execute_result"
    }
   ],
   "source": [
    "cnn.fit(x = training_set, validation_data = test_set, epochs = 25)"
   ]
  },
  {
   "cell_type": "markdown",
   "metadata": {
    "id": "U3PZasO0006Z"
   },
   "source": [
    "## Part 4 - Making a single prediction"
   ]
  },
  {
   "cell_type": "code",
   "execution_count": 33,
   "metadata": {
    "id": "gsSiWEJY1BPB"
   },
   "outputs": [],
   "source": [
    "import numpy as np\n",
    "from keras.preprocessing import image\n",
    "test_image = image.load_img('dataset_mask/data_test/without_mask/without_mask_299.jpg', target_size = (64, 64))\n",
    "test_image = image.img_to_array(test_image)\n",
    "test_image = np.expand_dims(test_image, axis = 0)\n",
    "result = cnn.predict(test_image/255.0)\n",
    "training_set.class_indices\n",
    "if result[0][0] > 0.5:\n",
    "  prediction = 'without_mask'\n",
    "else:\n",
    "  prediction = 'with_mask'"
   ]
  },
  {
   "cell_type": "code",
   "execution_count": 34,
   "metadata": {
    "id": "ED9KB3I54c1i"
   },
   "outputs": [
    {
     "name": "stdout",
     "output_type": "stream",
     "text": [
      "without_mask\n"
     ]
    }
   ],
   "source": [
    "print(prediction)"
   ]
  },
  {
   "cell_type": "code",
   "execution_count": null,
   "metadata": {},
   "outputs": [],
   "source": []
  }
 ],
 "metadata": {
  "colab": {
   "collapsed_sections": [],
   "name": "convolutional_neural_network.ipynb",
   "provenance": []
  },
  "kernelspec": {
   "display_name": "Python 3 (ipykernel)",
   "language": "python",
   "name": "python3"
  },
  "language_info": {
   "codemirror_mode": {
    "name": "ipython",
    "version": 3
   },
   "file_extension": ".py",
   "mimetype": "text/x-python",
   "name": "python",
   "nbconvert_exporter": "python",
   "pygments_lexer": "ipython3",
   "version": "3.9.7"
  }
 },
 "nbformat": 4,
 "nbformat_minor": 1
}
